{
 "cells": [
  {
   "cell_type": "code",
   "execution_count": 24,
   "metadata": {},
   "outputs": [],
   "source": [
    "import os\n",
    "import pandas as pd\n",
    "import numpy as np\n",
    "\n",
    "import matplotlib.pyplot as plt\n",
    "import time\n",
    "import warnings\n",
    "\n",
    "from sklearn.utils import resample, shuffle\n",
    "from premade_funcs import load_data\n",
    "from sklearn.neural_network import MLPClassifier\n",
    "import sklearn.metrics"
   ]
  },
  {
   "cell_type": "markdown",
   "metadata": {},
   "source": [
    "Just load_and_plot_data code here:"
   ]
  },
  {
   "cell_type": "code",
   "execution_count": 3,
   "metadata": {},
   "outputs": [
    {
     "name": "stdout",
     "output_type": "stream",
     "text": [
      "Contents of train_x.csv: arr of shape (2102, 784)\n",
      "Contents of valid_x.csv: arr of shape (600, 784)\n",
      "Contents of test_x.csv: arr of shape (600, 784)\n"
     ]
    }
   ],
   "source": [
    "data_dir = os.path.abspath(\"data_fashion/\")\n",
    "test_x, train_x, train_y_df, valid_x, valid_y_df = load_data(data_dir)"
   ]
  },
  {
   "cell_type": "markdown",
   "metadata": {},
   "source": [
    "## 1A - Dataset Exploration"
   ]
  },
  {
   "cell_type": "code",
   "execution_count": 18,
   "metadata": {},
   "outputs": [],
   "source": [
    "fashion_class = ['dress', 'pullover', 'top', 'trouser', 'sandal', 'sneaker']\n",
    "\n",
    "train_num = [len(train_y_df[train_y_df[\"class_name\"]==\"dress\"]), \n",
    "           len(train_y_df[train_y_df[\"class_name\"]==\"pullover\"]),\n",
    "           len(train_y_df[train_y_df[\"class_name\"]==\"top\"]),\n",
    "           len(train_y_df[train_y_df[\"class_name\"]==\"trouser\"]),\n",
    "           len(train_y_df[train_y_df[\"class_name\"]==\"sandal\"]),\n",
    "           len(train_y_df[train_y_df[\"class_name\"]==\"sneaker\"])]\n",
    "\n",
    "valid_num = [len(valid_y_df[valid_y_df[\"class_name\"]==\"dress\"]), \n",
    "           len(valid_y_df[valid_y_df[\"class_name\"]==\"pullover\"]),\n",
    "           len(valid_y_df[valid_y_df[\"class_name\"]==\"top\"]),\n",
    "           len(valid_y_df[valid_y_df[\"class_name\"]==\"trouser\"]),\n",
    "           len(valid_y_df[valid_y_df[\"class_name\"]==\"sandal\"]),\n",
    "           len(valid_y_df[valid_y_df[\"class_name\"]==\"sneaker\"])]"
   ]
  },
  {
   "cell_type": "code",
   "execution_count": 19,
   "metadata": {},
   "outputs": [
    {
     "name": "stdout",
     "output_type": "stream",
     "text": [
      "[400, 100, 1, 1, 800, 800]\n",
      "[100, 100, 100, 100, 100, 100]\n"
     ]
    }
   ],
   "source": [
    "print(train_num)\n",
    "print(valid_num)"
   ]
  },
  {
   "cell_type": "code",
   "execution_count": 22,
   "metadata": {},
   "outputs": [],
   "source": [
    "fashion = {'classes': pd.Series(fashion_class), 'train': pd.Series(train_num), 'valid': pd.Series(valid_num)}\n",
    "fashion_df = pd.DataFrame(data=fashion, index=[0, 1, 2, 3, 4, 5])"
   ]
  },
  {
   "cell_type": "code",
   "execution_count": 23,
   "metadata": {},
   "outputs": [
    {
     "data": {
      "text/html": [
       "<div>\n",
       "<style scoped>\n",
       "    .dataframe tbody tr th:only-of-type {\n",
       "        vertical-align: middle;\n",
       "    }\n",
       "\n",
       "    .dataframe tbody tr th {\n",
       "        vertical-align: top;\n",
       "    }\n",
       "\n",
       "    .dataframe thead th {\n",
       "        text-align: right;\n",
       "    }\n",
       "</style>\n",
       "<table border=\"1\" class=\"dataframe\">\n",
       "  <thead>\n",
       "    <tr style=\"text-align: right;\">\n",
       "      <th></th>\n",
       "      <th>classes</th>\n",
       "      <th>train</th>\n",
       "      <th>valid</th>\n",
       "    </tr>\n",
       "  </thead>\n",
       "  <tbody>\n",
       "    <tr>\n",
       "      <th>0</th>\n",
       "      <td>dress</td>\n",
       "      <td>400</td>\n",
       "      <td>100</td>\n",
       "    </tr>\n",
       "    <tr>\n",
       "      <th>1</th>\n",
       "      <td>pullover</td>\n",
       "      <td>100</td>\n",
       "      <td>100</td>\n",
       "    </tr>\n",
       "    <tr>\n",
       "      <th>2</th>\n",
       "      <td>top</td>\n",
       "      <td>1</td>\n",
       "      <td>100</td>\n",
       "    </tr>\n",
       "    <tr>\n",
       "      <th>3</th>\n",
       "      <td>trouser</td>\n",
       "      <td>1</td>\n",
       "      <td>100</td>\n",
       "    </tr>\n",
       "    <tr>\n",
       "      <th>4</th>\n",
       "      <td>sandal</td>\n",
       "      <td>800</td>\n",
       "      <td>100</td>\n",
       "    </tr>\n",
       "    <tr>\n",
       "      <th>5</th>\n",
       "      <td>sneaker</td>\n",
       "      <td>800</td>\n",
       "      <td>100</td>\n",
       "    </tr>\n",
       "  </tbody>\n",
       "</table>\n",
       "</div>"
      ],
      "text/plain": [
       "    classes  train  valid\n",
       "0     dress    400    100\n",
       "1  pullover    100    100\n",
       "2       top      1    100\n",
       "3   trouser      1    100\n",
       "4    sandal    800    100\n",
       "5   sneaker    800    100"
      ]
     },
     "execution_count": 23,
     "metadata": {},
     "output_type": "execute_result"
    }
   ],
   "source": [
    "fashion_df #sample in training set is super skewed! "
   ]
  },
  {
   "cell_type": "markdown",
   "metadata": {},
   "source": [
    "## 1B- Model Development"
   ]
  },
  {
   "cell_type": "code",
   "execution_count": 42,
   "metadata": {},
   "outputs": [],
   "source": [
    "n_runs = 4\n",
    "batch_size = [1, 5, 50, 100]\n",
    "max_iter_per_run = 100\n",
    "\n",
    "tr_balacc_arr = np.ones(n_runs) \n",
    "va_balacc_arr = np.ones(n_runs)\n",
    "tr_loss_arr = np.ones(n_runs)\n",
    "va_loss_arr = np.ones(n_runs)"
   ]
  },
  {
   "cell_type": "markdown",
   "metadata": {},
   "source": [
    "Trying different batch sizes per run - found NO DIFFERENCE made by batch size :("
   ]
  },
  {
   "cell_type": "code",
   "execution_count": 58,
   "metadata": {},
   "outputs": [
    {
     "name": "stdout",
     "output_type": "stream",
     "text": [
      "batch size   1: run 1/4 done after   0.1 sec | yes converged after 100 iter | tr err 0.167 | te err 0.167\n",
      "batch size   1: run 2/4 done after   0.0 sec | yes converged after 100 iter | tr err 0.167 | te err 0.167\n",
      "batch size   1: run 3/4 done after   0.1 sec | yes converged after 100 iter | tr err 0.167 | te err 0.167\n",
      "batch size   1: run 4/4 done after   0.0 sec | yes converged after 100 iter | tr err 0.167 | te err 0.167\n",
      "batch size   5: run 1/4 done after   0.1 sec | yes converged after 100 iter | tr err 0.167 | te err 0.167\n",
      "batch size   5: run 2/4 done after   0.0 sec | yes converged after 100 iter | tr err 0.167 | te err 0.167\n",
      "batch size   5: run 3/4 done after   0.0 sec | yes converged after 100 iter | tr err 0.167 | te err 0.167\n",
      "batch size   5: run 4/4 done after   0.1 sec | yes converged after 100 iter | tr err 0.167 | te err 0.167\n",
      "batch size  20: run 1/4 done after   0.0 sec | yes converged after 100 iter | tr err 0.167 | te err 0.167\n",
      "batch size  20: run 2/4 done after   0.0 sec | yes converged after 100 iter | tr err 0.167 | te err 0.167\n",
      "batch size  20: run 3/4 done after   0.0 sec | yes converged after 100 iter | tr err 0.167 | te err 0.167\n",
      "batch size  20: run 4/4 done after   0.0 sec | yes converged after 100 iter | tr err 0.167 | te err 0.167\n",
      "batch size  50: run 1/4 done after   0.1 sec | yes converged after 100 iter | tr err 0.167 | te err 0.167\n",
      "batch size  50: run 2/4 done after   0.0 sec | yes converged after 100 iter | tr err 0.167 | te err 0.167\n",
      "batch size  50: run 3/4 done after   0.1 sec | yes converged after 100 iter | tr err 0.167 | te err 0.167\n",
      "batch size  50: run 4/4 done after   0.1 sec | yes converged after 100 iter | tr err 0.167 | te err 0.167\n",
      "batch size 100: run 1/4 done after   0.1 sec | yes converged after 100 iter | tr err 0.167 | te err 0.167\n",
      "batch size 100: run 2/4 done after   0.0 sec | yes converged after 100 iter | tr err 0.167 | te err 0.167\n",
      "batch size 100: run 3/4 done after   0.1 sec | yes converged after 100 iter | tr err 0.167 | te err 0.167\n",
      "batch size 100: run 4/4 done after   0.1 sec | yes converged after 100 iter | tr err 0.167 | te err 0.167\n",
      "batch size 200: run 1/4 done after   0.1 sec | yes converged after 100 iter | tr err 0.167 | te err 0.167\n",
      "batch size 200: run 2/4 done after   0.0 sec | yes converged after 100 iter | tr err 0.167 | te err 0.167\n",
      "batch size 200: run 3/4 done after   0.1 sec | yes converged after 100 iter | tr err 0.167 | te err 0.167\n",
      "batch size 200: run 4/4 done after   0.0 sec | yes converged after 100 iter | tr err 0.167 | te err 0.167\n"
     ]
    }
   ],
   "source": [
    "for size in batch_size:\n",
    "    \n",
    "    for run_id, random_state in enumerate(range(n_runs)):\n",
    "        \n",
    "        start_time_sec = time.time()\n",
    "        mlp = MLPClassifier(\n",
    "            hidden_layer_sizes=[1], #per the spec. Don't touch\n",
    "            activation='relu',\n",
    "            alpha=0.0001,\n",
    "            tol=1e-5,\n",
    "            max_iter=max_iter_per_run,\n",
    "            random_state=random_state,\n",
    "            solver='lbfgs', #better for smaller & sparse training sets\n",
    "            batch_size=size,\n",
    "            early_stopping= True\n",
    "            )\n",
    "        with warnings.catch_warnings(record=True) as warn_list:\n",
    "            mlp.fit(train_x, train_y_df['class_uid'])\n",
    "        elapsed_time_sec = time.time() - start_time_sec\n",
    "        mlp.did_converge = True if len(warn_list) == 0 else False\n",
    "\n",
    "        # compute the log loss on training set and test set\n",
    "        tr_log_loss = sklearn.metrics.log_loss(train_y_df['class_uid'], mlp.predict_proba(train_x)) / np.log(2)\n",
    "        va_log_loss = sklearn.metrics.log_loss(valid_y_df['class_uid'], mlp.predict_proba(valid_x)) / np.log(2)\n",
    "        \n",
    "        tr_loss_arr[run_id-1] = tr_log_loss\n",
    "        va_loss_arr[run_id-1] = va_log_loss\n",
    "\n",
    "        # compute the error rate on the training set and test set\n",
    "        tr_balacc = sklearn.metrics.balanced_accuracy_score(train_y_df['class_uid'], mlp.predict(train_x))\n",
    "        va_balacc = sklearn.metrics.balanced_accuracy_score(valid_y_df['class_uid'], mlp.predict(valid_x))\n",
    "        \n",
    "        tr_balacc_arr[run_id-1] = tr_balacc\n",
    "        va_balacc_arr[run_id-1] = va_balacc\n",
    "\n",
    "    \n",
    "        print(\n",
    "            'batch size %3d: run %d/%d done after %5.1f sec | %13s after %3d iter | tr err %.3f | te err %.3f' % (\n",
    "            size, \n",
    "            run_id + 1, n_runs, elapsed_time_sec,\n",
    "            'yes converged' if mlp.did_converge else 'NOT converged',\n",
    "            max_iter_per_run,\n",
    "            tr_balacc, va_balacc))"
   ]
  },
  {
   "cell_type": "code",
   "execution_count": 63,
   "metadata": {},
   "outputs": [
    {
     "data": {
      "image/png": "[encoded data removed]",
      "text/plain": [
       "<Figure size 400x400 with 1 Axes>"
      ]
     },
     "metadata": {},
     "output_type": "display_data"
    }
   ],
   "source": [
    "fig, loss_ax = plt.subplots(nrows=1, ncols=1, figsize=(4, 4), sharex=True, sharey=True)\n",
    "\n",
    "for run_id in range(n_runs):\n",
    "    tr_label = 'train log loss' if run_id == 0 else ''\n",
    "    te_label = 'test log loss' if run_id == 0 else ''\n",
    "    \n",
    "    loss_ax.plot(np.log2(batch_size[run_id-1]), tr_loss_arr[run_id-1], 'bd', label=tr_label)\n",
    "    loss_ax.plot(np.log2(batch_size[run_id-1]), va_loss_arr[run_id-1], 'rd', label=te_label)\n",
    "\n",
    "loss_ax.set_xticks(np.log2(batch_size));\n",
    "loss_ax.set_xticklabels(batch_size);\n",
    "loss_ax.xaxis.grid(False);\n",
    "\n",
    "\n",
    "loss_ax.set_ylabel('log loss');\n",
    "loss_ax.set_xlabel('size');\n",
    "loss_ax.legend(loc='upper right');"
   ]
  },
  {
   "cell_type": "markdown",
   "metadata": {},
   "source": [
    "### Use sklearn's resample\n",
    "THis will ensure that ML model donesn't include towards majority class.\n",
    "https://towardsdatascience.com/heres-what-i-ve-learnt-about-sklearn-resample-ab735ae1abc4. "
   ]
  },
  {
   "cell_type": "code",
   "execution_count": 81,
   "metadata": {},
   "outputs": [],
   "source": [
    "#getting index for each class in training set:\n",
    "top_int = train_y_df.index[train_y_df['class_name']=='top']    #index 1\n",
    "trous_int = train_y_df.index[train_y_df['class_name']=='trouser']    #index 11\n",
    "dress_int =(train_y_df.index[train_y_df['class_name']=='dress']).tolist()\n",
    "pull_int =(train_y_df.index[train_y_df['class_name']=='pullover']).tolist()\n",
    "sneaker_int =(train_y_df.index[train_y_df['class_name']=='sneaker']).tolist()\n",
    "sandal_int =(train_y_df.index[train_y_df['class_name']=='sandal']).tolist()\n"
   ]
  },
  {
   "cell_type": "code",
   "execution_count": 100,
   "metadata": {},
   "outputs": [
    {
     "name": "stdout",
     "output_type": "stream",
     "text": [
      "1    0\n",
      "Name: class_uid, dtype: int64\n"
     ]
    }
   ],
   "source": [
    "x_train_2 = np.zeros((405, 784))\n",
    "x_train_2[0, :] = train_x[top_int, :]   #loading top\n",
    "assert(train_x[1, :].all()==x_train_2[0, :].all())\n",
    "\n",
    "x_train_2[1, :] = train_x[trous_int, :] #loadnig trousers\n",
    "x_train_2[2:102, :] = train_x[pull_int, :]\n",
    "assert(train_x[3, :].all()==x_train_2[pull_int[1], :].all())    #checking\n",
    "\n",
    "x_train_2[103:203, :] = train_x[dress_int[0:100], :]\n",
    "x_train_2[204:304, :] = train_x[sandal_int[0:100], :]\n",
    "x_train_2[305:405, :] = train_x[sneaker_int[0:100], :]"
   ]
  },
  {
   "cell_type": "code",
   "execution_count": null,
   "metadata": {},
   "outputs": [],
   "source": [
    "y_train_2= np.zeros((405,1))\n",
    "y_train_2[0, :] = 0 #top\n",
    "y_train_2[1, :] = 1  #trousers\n",
    "y_train_2[2:102, :] = 2 #pullovers\n",
    "y_train_2[103:203, :] = 3    #dress\n",
    "y_train_2[204:304, :]= 5    #sandal\n",
    "y_train_2[305:, :] = 7  #sneaker"
   ]
  },
  {
   "cell_type": "code",
   "execution_count": 132,
   "metadata": {},
   "outputs": [],
   "source": [
    "n_runs2= 4\n",
    "batch_size2 = [1, 5, 50, 100]\n",
    "max_iter_per_run2 = 10000\n",
    "\n",
    "tr_balacc_arr2 = np.ones(5) \n",
    "va_balacc_arr2 = np.ones(5)\n",
    "tr_loss_arr2 = np.ones(5)\n",
    "va_loss_arr2 = np.ones(5)"
   ]
  },
  {
   "cell_type": "code",
   "execution_count": 134,
   "metadata": {},
   "outputs": [
    {
     "name": "stdout",
     "output_type": "stream",
     "text": [
      "batch size   1: run 2/4 done after   0.0 sec | NOT converged after 1000 iter | tr err 0.167 | te err 0.167\n",
      "batch size   1: run 3/4 done after   0.0 sec | NOT converged after 1000 iter | tr err 0.167 | te err 0.167\n",
      "batch size   1: run 4/4 done after   0.0 sec | NOT converged after 1000 iter | tr err 0.167 | te err 0.167\n",
      "batch size   1: run 5/4 done after   0.0 sec | NOT converged after 1000 iter | tr err 0.167 | te err 0.167\n",
      "batch size   1: run 6/4 done after   0.0 sec | NOT converged after 1000 iter | tr err 0.292 | te err 0.167\n",
      "batch size   5: run 2/4 done after   0.0 sec | NOT converged after 1000 iter | tr err 0.167 | te err 0.167\n",
      "batch size   5: run 3/4 done after   0.0 sec | NOT converged after 1000 iter | tr err 0.167 | te err 0.167\n",
      "batch size   5: run 4/4 done after   0.0 sec | NOT converged after 1000 iter | tr err 0.167 | te err 0.167\n",
      "batch size   5: run 5/4 done after   0.0 sec | NOT converged after 1000 iter | tr err 0.167 | te err 0.167\n",
      "batch size   5: run 6/4 done after   0.0 sec | NOT converged after 1000 iter | tr err 0.292 | te err 0.167\n",
      "batch size  50: run 2/4 done after   0.0 sec | NOT converged after 1000 iter | tr err 0.167 | te err 0.167\n",
      "batch size  50: run 3/4 done after   0.0 sec | NOT converged after 1000 iter | tr err 0.167 | te err 0.167\n",
      "batch size  50: run 4/4 done after   0.0 sec | NOT converged after 1000 iter | tr err 0.167 | te err 0.167\n",
      "batch size  50: run 5/4 done after   0.0 sec | NOT converged after 1000 iter | tr err 0.167 | te err 0.167\n",
      "batch size  50: run 6/4 done after   0.0 sec | NOT converged after 1000 iter | tr err 0.292 | te err 0.167\n",
      "batch size 100: run 2/4 done after   0.0 sec | NOT converged after 1000 iter | tr err 0.167 | te err 0.167\n",
      "batch size 100: run 3/4 done after   0.0 sec | NOT converged after 1000 iter | tr err 0.167 | te err 0.167\n",
      "batch size 100: run 4/4 done after   0.0 sec | NOT converged after 1000 iter | tr err 0.167 | te err 0.167\n",
      "batch size 100: run 5/4 done after   0.0 sec | NOT converged after 1000 iter | tr err 0.167 | te err 0.167\n",
      "batch size 100: run 6/4 done after   0.0 sec | NOT converged after 1000 iter | tr err 0.292 | te err 0.167\n"
     ]
    }
   ],
   "source": [
    "for size in batch_size2:\n",
    "    \n",
    "    for random_state in [1, 2, 3, 4, 5]:\n",
    "        \n",
    "        start_time_sec = time.time()\n",
    "        mlp2 = MLPClassifier(\n",
    "            hidden_layer_sizes=[1], #per the spec. Don't touch\n",
    "            activation='relu',\n",
    "            alpha=0.0001,\n",
    "            tol=1e-5,\n",
    "            max_iter=max_iter_per_run2,\n",
    "            random_state=random_state,\n",
    "            solver='lbfgs', #better for smaller & sparse training sets\n",
    "            batch_size=size,\n",
    "            early_stopping= True\n",
    "            )\n",
    "        with warnings.catch_warnings(record=True) as warn_list:\n",
    "            mlp2.fit(x_train_2, y_train_2)\n",
    "        elapsed_time_sec = time.time() - start_time_sec\n",
    "        mlp2.did_converge = True if len(warn_list) == 0 else False\n",
    "\n",
    "        # compute the log loss on training set and test set\n",
    "        tr_log_loss2 = sklearn.metrics.log_loss(y_train_2, mlp2.predict_proba(x_train_2)) / np.log(2)\n",
    "        va_log_loss2 = sklearn.metrics.log_loss(valid_y_df['class_uid'], mlp2.predict_proba(valid_x)) / np.log(2)\n",
    "        \n",
    "        tr_loss_arr2[random_state-1] = tr_log_loss2\n",
    "        va_loss_arr2[random_state-1] = va_log_loss2\n",
    "\n",
    "        # compute the error rate on the training set and test set\n",
    "        tr_balacc2 = sklearn.metrics.balanced_accuracy_score(y_train_2, mlp2.predict(x_train_2))\n",
    "        va_balacc2 = sklearn.metrics.balanced_accuracy_score(valid_y_df['class_uid'], mlp2.predict(valid_x))\n",
    "        \n",
    "        tr_balacc_arr2[random_state-1] = tr_balacc2\n",
    "        va_balacc_arr2[random_state-1] = va_balacc2\n",
    "\n",
    "    \n",
    "        print(\n",
    "            'batch size %3d: run %d/%d done after %5.1f sec | %13s after %3d iter | tr err %.3f | te err %.3f' % (\n",
    "            size, \n",
    "            random_state + 1, n_runs, elapsed_time_sec,\n",
    "            'yes converged' if mlp2.did_converge else 'NOT converged',\n",
    "            max_iter_per_run2,\n",
    "            tr_balacc2, va_balacc2))"
   ]
  },
  {
   "cell_type": "code",
   "execution_count": 123,
   "metadata": {},
   "outputs": [
    {
     "name": "stderr",
     "output_type": "stream",
     "text": [
      "c:\\Users\\leigh\\micromamba\\envs\\cs135_env\\lib\\site-packages\\sklearn\\neural_network\\_multilayer_perceptron.py:686: ConvergenceWarning: Stochastic Optimizer: Maximum iterations (200) reached and the optimization hasn't converged yet.\n",
      "  warnings.warn(\n",
      "c:\\Users\\leigh\\micromamba\\envs\\cs135_env\\lib\\site-packages\\sklearn\\neural_network\\_multilayer_perceptron.py:686: ConvergenceWarning: Stochastic Optimizer: Maximum iterations (200) reached and the optimization hasn't converged yet.\n",
      "  warnings.warn(\n",
      "c:\\Users\\leigh\\micromamba\\envs\\cs135_env\\lib\\site-packages\\sklearn\\neural_network\\_multilayer_perceptron.py:686: ConvergenceWarning: Stochastic Optimizer: Maximum iterations (200) reached and the optimization hasn't converged yet.\n",
      "  warnings.warn(\n"
     ]
    },
    {
     "data": {
      "image/png": "[encoded data removed]",
      "text/plain": [
       "<Figure size 640x480 with 1 Axes>"
      ]
     },
     "metadata": {},
     "output_type": "display_data"
    }
   ],
   "source": [
    "for trial in [1, 2, 3, 4, 5]:\n",
    "    mlp_1hidden_batchsize25 = sklearn.neural_network.MLPClassifier(\n",
    "        hidden_layer_sizes=[1],\n",
    "        activation='relu',\n",
    "        solver='sgd',\n",
    "        learning_rate_init=0.05,\n",
    "        random_state=trial,\n",
    "        batch_size=25,\n",
    "        )\n",
    "    \n",
    "    # Fit the model to training data\n",
    "    mlp_1hidden_batchsize25.fit(train_x, train_y_df['class_uid'])\n",
    "    \n",
    "    # Visualize the trace of the loss\n",
    "    plt.plot(mlp_1hidden_batchsize25.loss_curve_, '.-', label='trial %d' % trial)\n",
    "    \n",
    "plt.legend();\n",
    "\n",
    "tr_pred = mlp_1hidden_batchsize25.predict(train_x)\n",
    "tr_acc = sklearn.metrics.balanced_accuracy_score(train_y_df['class_uid'], tr_pred)\n",
    "\n"
   ]
  },
  {
   "cell_type": "code",
   "execution_count": 124,
   "metadata": {},
   "outputs": [
    {
     "name": "stdout",
     "output_type": "stream",
     "text": [
      "0.16666666666666666\n"
     ]
    }
   ],
   "source": [
    "print(tr_acc)"
   ]
  }
 ],
 "metadata": {
  "kernelspec": {
   "display_name": "Python 3",
   "language": "python",
   "name": "python3"
  },
  "language_info": {
   "codemirror_mode": {
    "name": "ipython",
    "version": 3
   },
   "file_extension": ".py",
   "mimetype": "text/x-python",
   "name": "python",
   "nbconvert_exporter": "python",
   "pygments_lexer": "ipython3",
   "version": "3.10.13"
  }
 },
 "nbformat": 4,
 "nbformat_minor": 2
}
