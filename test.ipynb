{
 "cells": [
  {
   "cell_type": "code",
   "execution_count": 2,
   "metadata": {},
   "outputs": [],
   "source": [
    "import os\n",
    "import pandas as pd\n",
    "import numpy as np\n",
    "\n",
    "import matplotlib.pyplot as plt\n",
    "import time\n",
    "import warnings\n",
    "\n",
    "from premade_funcs import load_data\n",
    "\n",
    "from sklearn.neural_network import MLPClassifier\n",
    "import sklearn.metrics"
   ]
  },
  {
   "cell_type": "markdown",
   "metadata": {},
   "source": [
    "Just load_and_plot_data code here:"
   ]
  },
  {
   "cell_type": "code",
   "execution_count": 3,
   "metadata": {},
   "outputs": [
    {
     "name": "stdout",
     "output_type": "stream",
     "text": [
      "Contents of train_x.csv: arr of shape (2102, 784)\n",
      "Contents of valid_x.csv: arr of shape (600, 784)\n",
      "Contents of test_x.csv: arr of shape (600, 784)\n"
     ]
    }
   ],
   "source": [
    "data_dir = os.path.abspath(\"data_fashion/\")\n",
    "test_x, train_x, train_y_df, valid_x, valid_y_df = load_data(data_dir)"
   ]
  },
  {
   "cell_type": "markdown",
   "metadata": {},
   "source": [
    "## Pre-set values to put into MLPClassifier"
   ]
  },
  {
   "cell_type": "code",
   "execution_count": 6,
   "metadata": {},
   "outputs": [],
   "source": [
    "n_runs = 4\n",
    "\n",
    "max_iter_per_run = 1000\n",
    "tr_balacc_arr = np.ones(n_runs) # Pre allocate with arbitrary values, just so code doesnt break\n",
    "va_balacc_arr = np.ones(n_runs)"
   ]
  },
  {
   "cell_type": "code",
   "execution_count": 7,
   "metadata": {},
   "outputs": [
    {
     "name": "stdout",
     "output_type": "stream",
     "text": [
      "run 1/4 done after   0.1 sec | yes converged after 1000 iter | tr acc 0.167 | te acc 0.167\n",
      "run 2/4 done after   0.1 sec | yes converged after 1000 iter | tr acc 0.167 | te acc 0.167\n",
      "run 3/4 done after   0.1 sec | yes converged after 1000 iter | tr acc 0.167 | te acc 0.167\n",
      "run 4/4 done after   0.1 sec | yes converged after 1000 iter | tr acc 0.167 | te acc 0.167\n"
     ]
    }
   ],
   "source": [
    "for run_id, random_state in enumerate(range(n_runs)):\n",
    "    \n",
    "    start_time_sec = time.time()\n",
    "    mlp = MLPClassifier(\n",
    "        hidden_layer_sizes=1,   #At MOST 1 hidden layer per spec.\n",
    "        activation='relu',\n",
    "        alpha=0.0001,\n",
    "        tol=1e-5,\n",
    "        max_iter=max_iter_per_run,\n",
    "        random_state=random_state,\n",
    "        solver='lbfgs', batch_size=10000,\n",
    "        )\n",
    "        \n",
    "    with warnings.catch_warnings(record=True) as warn_list:\n",
    "        mlp.fit(train_x, train_y_df['class_uid'])\n",
    "    elapsed_time_sec = time.time() - start_time_sec\n",
    "    mlp.did_converge = True if len(warn_list) == 0 else False\n",
    "    train_pred = mlp.predict(train_x)\n",
    "    val_pred = mlp.predict(valid_x)\n",
    "\n",
    "    # compute the acc rate on the training set and test set\n",
    "    tr_acc = sklearn.metrics.balanced_accuracy_score(train_y_df['class_uid'], train_pred)\n",
    "\n",
    "    va_acc = sklearn.metrics.balanced_accuracy_score(valid_y_df['class_uid'], val_pred)\n",
    "    \n",
    "    tr_balacc_arr[run_id] = tr_acc\n",
    "    va_balacc_arr[run_id] = va_acc\n",
    "    \n",
    "    print(\n",
    "        'run %d/%d done after %5.1f sec | %13s after %3d iter | tr acc %.3f | te acc %.3f' % ( \n",
    "        run_id + 1, n_runs, elapsed_time_sec,\n",
    "        'yes converged' if mlp.did_converge else 'NOT converged',\n",
    "        max_iter_per_run,\n",
    "        tr_acc, va_acc))"
   ]
  }
 ],
 "metadata": {
  "kernelspec": {
   "display_name": "Python 3",
   "language": "python",
   "name": "python3"
  },
  "language_info": {
   "codemirror_mode": {
    "name": "ipython",
    "version": 3
   },
   "file_extension": ".py",
   "mimetype": "text/x-python",
   "name": "python",
   "nbconvert_exporter": "python",
   "pygments_lexer": "ipython3",
   "version": "3.10.13"
  }
 },
 "nbformat": 4,
 "nbformat_minor": 2
}
