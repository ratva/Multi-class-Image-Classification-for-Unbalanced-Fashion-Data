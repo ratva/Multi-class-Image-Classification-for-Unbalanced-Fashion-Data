{
 "cells": [
  {
   "cell_type": "code",
   "execution_count": 1,
   "metadata": {},
   "outputs": [],
   "source": [
    "import os\n",
    "import pandas as pd\n",
    "import numpy as np\n",
    "\n",
    "import matplotlib.pyplot as plt\n",
    "import time\n",
    "import warnings\n",
    "\n",
    "from premade_funcs import load_data\n",
    "\n",
    "from sklearn.neural_network import MLPClassifier\n",
    "import sklearn.metrics"
   ]
  },
  {
   "cell_type": "markdown",
   "metadata": {},
   "source": [
    "Just load_and_plot_data code here:"
   ]
  },
  {
   "cell_type": "code",
   "execution_count": 2,
   "metadata": {},
   "outputs": [
    {
     "name": "stdout",
     "output_type": "stream",
     "text": [
      "Contents of train_x.csv: arr of shape (2102, 784)\n",
      "Contents of valid_x.csv: arr of shape (600, 784)\n",
      "Contents of test_x.csv: arr of shape (600, 784)\n"
     ]
    }
   ],
   "source": [
    "data_dir = os.path.abspath(\"data_fashion/\")\n",
    "test_x, train_x, train_y_df, valid_x, valid_y_df = load_data(data_dir)"
   ]
  },
  {
   "cell_type": "markdown",
   "metadata": {},
   "source": [
    "## Pre-set values to put into MLPClassifier"
   ]
  },
  {
   "cell_type": "code",
   "execution_count": 9,
   "metadata": {},
   "outputs": [
    {
     "ename": "NameError",
     "evalue": "name 'S' is not defined",
     "output_type": "error",
     "traceback": [
      "\u001b[1;31m---------------------------------------------------------------------------\u001b[0m",
      "\u001b[1;31mNameError\u001b[0m                                 Traceback (most recent call last)",
      "\u001b[1;32mc:\\Users\\leigh\\OneDrive - Tufts\\cs135\\projectB\\test.ipynb Cell 4\u001b[0m line \u001b[0;36m3\n\u001b[0;32m      <a href='vscode-notebook-cell:/c%3A/Users/leigh/OneDrive%20-%20Tufts/cs135/projectB/test.ipynb#W4sZmlsZQ%3D%3D?line=0'>1</a>\u001b[0m n_runs \u001b[39m=\u001b[39m \u001b[39m4\u001b[39m\n\u001b[1;32m----> <a href='vscode-notebook-cell:/c%3A/Users/leigh/OneDrive%20-%20Tufts/cs135/projectB/test.ipynb#W4sZmlsZQ%3D%3D?line=2'>3</a>\u001b[0m tr_loss_arr \u001b[39m=\u001b[39m \u001b[39m0.11\u001b[39m \u001b[39m*\u001b[39m np\u001b[39m.\u001b[39mones((S, n_runs)) \u001b[39m# Pre allocate with arbitrary values, just so code doesnt break\u001b[39;00m\n\u001b[0;32m      <a href='vscode-notebook-cell:/c%3A/Users/leigh/OneDrive%20-%20Tufts/cs135/projectB/test.ipynb#W4sZmlsZQ%3D%3D?line=3'>4</a>\u001b[0m te_loss_arr \u001b[39m=\u001b[39m \u001b[39m0.22\u001b[39m \u001b[39m*\u001b[39m np\u001b[39m.\u001b[39mones((S, n_runs))\n\u001b[0;32m      <a href='vscode-notebook-cell:/c%3A/Users/leigh/OneDrive%20-%20Tufts/cs135/projectB/test.ipynb#W4sZmlsZQ%3D%3D?line=5'>6</a>\u001b[0m tr_err_arr \u001b[39m=\u001b[39m \u001b[39m0.08\u001b[39m \u001b[39m*\u001b[39m np\u001b[39m.\u001b[39mones((S, n_runs))\n",
      "\u001b[1;31mNameError\u001b[0m: name 'S' is not defined"
     ]
    }
   ],
   "source": [
    "n_runs = 4\n",
    "max_iter_per_run = 1000\n",
    "tr_balacc_arr = 0.11 * np.ones((1, n_runs)) # Pre allocate with arbitrary values, just so code doesnt break\n",
    "te_balacc_arr = 0.22 * np.ones((1, n_runs))"
   ]
  },
  {
   "cell_type": "code",
   "execution_count": null,
   "metadata": {},
   "outputs": [],
   "source": [
    "for run_id, random_state in enumerate(range(n_runs)):\n",
    "    \n",
    "    start_time_sec = time.time()\n",
    "    mlp = MLPClassifier(\n",
    "        hidden_layer_sizes=1,   #At MOST 1 hidden layer per spec.\n",
    "        activation='relu',\n",
    "        alpha=0.0001,\n",
    "        tol=1e-5,\n",
    "        max_iter=max_iter_per_run,\n",
    "        random_state=random_state,\n",
    "        solver='lbfgs', batch_size=10000,\n",
    "        )\n",
    "    \n",
    "    with warnings.catch_warnings(record=True) as warn_list:\n",
    "        mlp.fit(train_x, train_y_df)\n",
    "    elapsed_time_sec = time.time() - start_time_sec\n",
    "    mlp.did_converge = True if len(warn_list) == 0 else False\n",
    "\n",
    "    # TODO compute the error rate on the training set and test set\n",
    "    # Can use code like this:\n",
    "    #      sklearn.metrics.zero_one_loss(..., ...)\n",
    "    tr_acc = \n",
    "    te_acc = sklearn.metrics.zero_one_loss(y_te_T, mlp.predict(x_te_T2))\n",
    "    \n",
    "    tr_err_arr[size_list.index(size), run_id] = tr_err\n",
    "    te_err_arr[size_list.index(size), run_id] = te_err\n",
    "\n",
    "    # TODO store this mlp's performance so you can plot it later\n",
    "    # You can use the provided `tr_loss_arr', or find another way that makes sense to you\n",
    "    tr_loss_arr[size_list.index(size), run_id] = tr_log_loss\n",
    "    te_loss_arr[size_list.index(size), run_id] = te_log_loss\n",
    "    \n",
    "    print(\n",
    "        'run %d/%d done after %5.1f sec | %13s after %3d iter | tr err %.3f | te err %.3f' % (\n",
    "        size, \n",
    "        run_id + 1, n_runs, elapsed_time_sec,\n",
    "        'yes converged' if mlp.did_converge else 'NOT converged',\n",
    "        max_iter_per_run,\n",
    "        tr_err, te_err))"
   ]
  }
 ],
 "metadata": {
  "kernelspec": {
   "display_name": "Python 3",
   "language": "python",
   "name": "python3"
  },
  "language_info": {
   "codemirror_mode": {
    "name": "ipython",
    "version": 3
   },
   "file_extension": ".py",
   "mimetype": "text/x-python",
   "name": "python",
   "nbconvert_exporter": "python",
   "pygments_lexer": "ipython3",
   "version": "3.10.13"
  }
 },
 "nbformat": 4,
 "nbformat_minor": 2
}
