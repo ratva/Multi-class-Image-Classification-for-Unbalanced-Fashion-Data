{
 "cells": [
  {
   "cell_type": "code",
   "execution_count": null,
   "metadata": {},
   "outputs": [],
   "source": [
    "# File handling\n",
    "import os\n",
    "import pickle\n",
    "\n",
    "# General functions\n",
    "import numpy as np\n",
    "import pandas as pd\n",
    "\n",
    "# Sci-kit learn\n",
    "from sklearn.model_selection import RandomizedSearchCV, GridSearchCV, PredefinedSplit\n",
    "from sklearn.neural_network import MLPClassifier\n",
    "import sklearn.pipeline\n",
    "import sklearn.metrics\n",
    "# import sklearn.linear_model\n",
    "# import sklearn.model_selection as skms\n",
    "# import sklearn.feature_selection\n",
    "# from sklearn.utils import shuffle\n",
    "# from sklearn.feature_extraction.text import CountVectorizer\n",
    "# from sklearn.metrics import roc_auc_score, roc_curve, confusion_matrix, ConfusionMatrixDisplay\n",
    "\n",
    "# Data visualisation\n",
    "import matplotlib.pyplot as plt\n",
    "import seaborn as sns\n",
    "\n",
    "# Import our custom functions\n",
    "from load_data import load_data "
   ]
  },
  {
   "cell_type": "code",
   "execution_count": null,
   "metadata": {},
   "outputs": [],
   "source": [
    "def load_data1(x_file, y_file):\n",
    "    data_dir = os.path.abspath(\"data_fashion/\")\n",
    "\n",
    "    # Load data\n",
    "    x_df = pd.read_csv(os.path.join(data_dir, x_file)).to_numpy()\n",
    "    y_df = pd.read_csv(os.path.join(data_dir, y_file))\n",
    "    \n",
    "    return x_df, y_df"
   ]
  },
  {
   "cell_type": "code",
   "execution_count": null,
   "metadata": {},
   "outputs": [],
   "source": [
    "x_tr, y_tr_df = load_data1('x_train.csv', 'y_train.csv')\n",
    "x_va, y_va_df = load_data('x_valid.csv', 'y_valid.csv')"
   ]
  },
  {
   "cell_type": "markdown",
   "metadata": {},
   "source": [
    "# Real code shown in stylised markdown if needed, however equivalent is set in code cells"
   ]
  },
  {
   "cell_type": "markdown",
   "metadata": {},
   "source": [
    "```python\n",
    "# Define splitter to pass training data for training and validation data for hyperparameter selection\n",
    "x_all = np.vstack((x_tr,x_va))\n",
    "y_all_df = pd.concat([y_tr_df,y_va_df])\n",
    "\n",
    "valid_indicators = np.hstack([\n",
    "    -1 * np.ones(y_tr_df.shape[0]), # -1 means never include this example in any test split\n",
    "    0  * np.ones(y_va_df.shape[0]), #  0 means include in the first test split (we count starting at 0 in python)\n",
    "    ])\n",
    "\n",
    "# Define custom splitter to use only the validation dataset for hyperparameter selection\n",
    "print(\"Splitter dimensions: %i\" % (valid_indicators.shape[0]))\n",
    "my_splitter = PredefinedSplit(valid_indicators)\n",
    "```"
   ]
  },
  {
   "cell_type": "code",
   "execution_count": null,
   "metadata": {},
   "outputs": [],
   "source": [
    "my_splitter = PredefinedSplit((2102,))"
   ]
  },
  {
   "cell_type": "markdown",
   "metadata": {},
   "source": [
    "This loads the pre-run model, however showing the randomized search cv call that generated this file for context."
   ]
  },
  {
   "cell_type": "markdown",
   "metadata": {},
   "source": [
    "```python\n",
    "rand_param_dist = dict(hidden_layer_sizes=[(10,),(20,),(50,),(100,),(200,),(500,)], activation=('identity', 'logistic', 'tanh', 'relu'), max_iter = [1, 2, 3, 4, 5, 10, 20, 50, 100, 200, 300], alpha = np.logspace(-5,5,50))\n",
    "\n",
    "rand_600_1b_model = sklearn.pipeline.Pipeline([\n",
    "    ('rand_search', RandomizedSearchCV(MLPClassifier(solver='lbfgs', shuffle=True, random_state=0), rand_param_dist, scoring='balanced_accuracy', error_score='raise', return_train_score=True, n_iter=600, cv= my_splitter, n_jobs = -1, refit= False, random_state=0))\n",
    "])\n",
    "\n",
    "# Fit on x_all as the custom splitter will divide this into tr and val\n",
    "rand_600_1b_model.fit(x_all, y_all_df['class_name'])\n",
    "filename = '1B_rand_search_600.sav'\n",
    "pickle.dump(rand_600_1b_model, open(filename, 'wb'))\n",
    "```"
   ]
  },
  {
   "cell_type": "code",
   "execution_count": null,
   "metadata": {},
   "outputs": [],
   "source": [
    "filename = '1B_rand_search_600.sav'\n",
    "\n",
    "rand_600_1b_model = pickle.load(open(filename, 'rb'))\n",
    "\n",
    "# NOTE score is set to balanced accuracy"
   ]
  },
  {
   "cell_type": "code",
   "execution_count": null,
   "metadata": {},
   "outputs": [],
   "source": [
    "randRes = rand_600_1b_model['rand_search'].cv_results_\n",
    "bestIdx = rand_600_1b_model['rand_search'].best_index_ # idx 12, 16, 44 all scored the same\n",
    "\n",
    "\n",
    "bestParams = dict()\n",
    "bestParams[0] = {k:v[bestIdx] for k,v in randRes.items()}\n",
    "\n",
    "display(bestParams)\n",
    "\n",
    "print(\"Best Index: %i\" % (bestIdx))\n",
    "\n",
    "# print(randRes['params'][bestIdx])\n",
    "# print(randRes[\"rank_test_score\"][bestIdx])\n",
    "print(\"RandomizedSearchCV reported test balanced accuracy: %f\" % (randRes[\"mean_test_score\"][bestIdx]))\n"
   ]
  },
  {
   "cell_type": "code",
   "execution_count": null,
   "metadata": {},
   "outputs": [],
   "source": [
    "# Remake the best run with the same settings\n",
    "\n",
    "bestMLP1b = MLPClassifier(solver='lbfgs', shuffle=True, random_state=0, max_iter=100, hidden_layer_sizes=(200,), alpha=1456.3484775012444, activation='relu')\n",
    "\n",
    "bestMLP1b.fit(x_tr,y_tr_df[\"class_name\"])"
   ]
  },
  {
   "cell_type": "code",
   "execution_count": null,
   "metadata": {},
   "outputs": [],
   "source": [
    "tr_acc = sklearn.metrics.balanced_accuracy_score(y_tr_df['class_name'], bestMLP1b.predict(x_tr))\n",
    "va_acc = sklearn.metrics.balanced_accuracy_score(y_va_df['class_name'], bestMLP1b.predict(x_va))\n",
    "print(\"Training balanced accuracy: %f\\nValidation balanced accuracy: %f\" % (tr_acc, va_acc))"
   ]
  },
  {
   "cell_type": "markdown",
   "metadata": {},
   "source": [
    "Reported accuracy on validation dataset is much lower here"
   ]
  }
 ],
 "metadata": {
  "kernelspec": {
   "display_name": "Python 3",
   "language": "python",
   "name": "python3"
  },
  "language_info": {
   "codemirror_mode": {
    "name": "ipython",
    "version": 3
   },
   "file_extension": ".py",
   "mimetype": "text/x-python",
   "name": "python",
   "nbconvert_exporter": "python",
   "pygments_lexer": "ipython3",
   "version": "3.10.13"
  }
 },
 "nbformat": 4,
 "nbformat_minor": 2
}
