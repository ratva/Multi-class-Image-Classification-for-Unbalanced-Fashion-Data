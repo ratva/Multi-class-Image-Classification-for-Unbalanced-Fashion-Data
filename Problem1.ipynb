{
 "cells": [
  {
   "cell_type": "code",
   "execution_count": null,
   "metadata": {},
   "outputs": [],
   "source": [
    "import os\n",
    "import numpy as np\n",
    "import pandas as pd\n",
    "# import sklearn.linear_model as sklm\n",
    "# import sklearn.model_selection as skms\n",
    "# import sklearn.feature_selection\n",
    "# import sklearn.pipeline\n",
    "# from sklearn.utils import shuffle\n",
    "# from sklearn.feature_extraction.text import CountVectorizer\n",
    "# from sklearn.metrics import roc_auc_score, roc_curve, confusion_matrix, ConfusionMatrixDisplay\n",
    "# from sklearn.model_selection import RandomizedSearchCV\n",
    "import matplotlib.pyplot as plt\n",
    "\n",
    "# Import our custom functions\n",
    "from load_data import load_data "
   ]
  },
  {
   "cell_type": "markdown",
   "metadata": {},
   "source": [
    "Load training and validation data:\n",
    "\n",
    "x data is an array of N*784 pixels (N = 2102 for tr, 600 for va)\n",
    "\n",
    "y is a dataframe of index, class_name and class_id"
   ]
  },
  {
   "cell_type": "code",
   "execution_count": null,
   "metadata": {},
   "outputs": [],
   "source": [
    "\n",
    "x_tr, y_tr_df = load_data('x_train.csv', 'y_train.csv')\n",
    "x_va, y_va_df = load_data('x_valid.csv', 'y_valid.csv')\n",
    "\n",
    "for label, arr in [('train', x_tr), ('valid', x_va)]:\n",
    "    print(\"Contents of %s_x.csv: arr of shape %s\" % (\n",
    "        label, str(arr.shape)))"
   ]
  },
  {
   "cell_type": "markdown",
   "metadata": {},
   "source": [
    "Plot a random image from the validation data for each category"
   ]
  },
  {
   "cell_type": "code",
   "execution_count": null,
   "metadata": {},
   "outputs": [],
   "source": [
    "# prng = np.random.RandomState(0)\n",
    "prng = np.random.RandomState()\n",
    "N = 3 # num examples of each class to show\n",
    "fig, axgrid = plt.subplots(N, 6, figsize=(6*3, N*2.5))\n",
    "\n",
    "for ll, label in enumerate(['dress', 'pullover', 'top', 'trouser', 'sandal', 'sneaker']):\n",
    "    match_df = y_va_df.query(\"class_name == '%s'\" % label)\n",
    "    match_ids_N = prng.choice(match_df.index, size=N)        \n",
    "    for ii, row_id in enumerate(match_ids_N):\n",
    "        ax = axgrid[ii, ll]\n",
    "        x_SS = x_va[row_id].reshape((28,28))\n",
    "        ax.imshow(x_SS, vmin=0, vmax=255, cmap='gray')\n",
    "        ax.set_xticks([]); ax.set_yticks([]);\n",
    "        if ii == 0:\n",
    "            ax.set_title(label, fontsize=16)\n",
    "plt.subplots_adjust(left=0.01, right=0.99, wspace=.2, hspace=.01)\n",
    "plt.tight_layout();\n",
    "plt.show();"
   ]
  },
  {
   "cell_type": "markdown",
   "metadata": {},
   "source": [
    "# Data Exploration 1a"
   ]
  },
  {
   "cell_type": "code",
   "execution_count": null,
   "metadata": {},
   "outputs": [],
   "source": [
    "tr_class_dist = y_tr_df['class_name'].value_counts()\n",
    "val_class_dist = y_va_df['class_name'].value_counts()\n",
    "\n",
    "print('Training class distribution:')\n",
    "print(tr_class_dist)\n",
    "print('Validation class distribution:')\n",
    "print(val_class_dist)"
   ]
  },
  {
   "cell_type": "markdown",
   "metadata": {},
   "source": [
    "The training data is heavily skewed with data from sandals and trainers, with only one training image for 2 classes. A challenge will be gaining a balanced weighting for each of the classes such that the dominant classes aren't always favoured by the classifier."
   ]
  }
 ],
 "metadata": {
  "kernelspec": {
   "display_name": "Python 3",
   "language": "python",
   "name": "python3"
  },
  "language_info": {
   "codemirror_mode": {
    "name": "ipython",
    "version": 3
   },
   "file_extension": ".py",
   "mimetype": "text/x-python",
   "name": "python",
   "nbconvert_exporter": "python",
   "pygments_lexer": "ipython3",
   "version": "3.10.13"
  }
 },
 "nbformat": 4,
 "nbformat_minor": 2
}
