{
 "cells": [
  {
   "cell_type": "markdown",
   "metadata": {},
   "source": [
    "## Making fun pictures:\n",
    "- dress (ID 3) 400 - Need 400 more. - 1 transformation / image<br>\n",
    "- Pullover (ID 2) - Need 700 more.  7 transformations/image<br>\n",
    "- top (ID 0) - Need 799 more.  ~37 transformations / image if we take 20 images from validation set. 1 image with 39 transformations <br>\n",
    "- trouser (ID 1) - Need 799 more. ~37 transformations / image. 1 image with 39 transformations<br>\n",
    "<br>\n",
    "---\n",
    "Available Transformations:<br>\n",
    "1. one Flip Image<br>\n",
    "2. 16 different rotations<br>\n",
    "3. 4 lighten image<br>\n",
    "4. 4 darken image<br>\n",
    "5. 7 types of noise addition.<br>\n",
    "\n",
    "#### Tops & Trousers: <br>\n",
    "- 7 noise + 6 rotation + 4 light + 4 dark = 24 transformations<br>\n",
    "- 7 noise/flip + 4 rot/light + 4 rot/dark + 1 dark/noise= 16 transformations<br>\n",
    "\n",
    "#### Pullovers: \n",
    "4 noise/flip + 1 rot/light + 1 rot/dark + 1 dark/noise= 7 transformations<br>\n",
    "\n",
    "#### Dress:\n",
    "1 noise/flip for each dress.\n"
   ]
  },
  {
   "cell_type": "code",
   "execution_count": 1,
   "metadata": {},
   "outputs": [],
   "source": [
    "from PIL import Image, ImageEnhance\n",
    "import skimage\n",
    "from load_data import load_data \n",
    "import numpy as np\n",
    "import matplotlib.pyplot as plt\n",
    "from transfomations import all_rot, all_noise, all_expo, show_image, noise_exp, noise_flip, rot_expose"
   ]
  },
  {
   "cell_type": "code",
   "execution_count": 2,
   "metadata": {},
   "outputs": [],
   "source": [
    "x_tr, y_tr_df = load_data('x_train.csv', 'y_train.csv')\n",
    "x_va, y_va_df = load_data('x_valid.csv', 'y_valid.csv')\n",
    "x_te = load_data('x_test.csv', 'y_valid.csv')[0]"
   ]
  },
  {
   "cell_type": "code",
   "execution_count": 3,
   "metadata": {},
   "outputs": [],
   "source": [
    "#Scaling images between 0 and 1. Works better with skimage\n",
    "x_tr_sc=np.divide(x_tr, 255)\n",
    "x_va_sc = np.divide(x_va, 255)"
   ]
  },
  {
   "cell_type": "code",
   "execution_count": 4,
   "metadata": {},
   "outputs": [],
   "source": [
    "#getting index for each class in training set:\n",
    "top_int = y_tr_df.index[y_tr_df['class_name']=='top']    #index 1\n",
    "trous_int = y_tr_df.index[y_tr_df['class_name']=='trouser']    #index 11\n",
    "dress_int =(y_tr_df.index[y_tr_df['class_name']=='dress']).tolist()\n",
    "pull_int =(y_tr_df.index[y_tr_df['class_name']=='pullover']).tolist()\n",
    "sneaker_int =(y_tr_df.index[y_tr_df['class_name']=='sneaker']).tolist()\n",
    "sandal_int =(y_tr_df.index[y_tr_df['class_name']=='sandal']).tolist()"
   ]
  },
  {
   "cell_type": "markdown",
   "metadata": {},
   "source": [
    "## Transformation Funcs for combination"
   ]
  },
  {
   "cell_type": "code",
   "execution_count": 5,
   "metadata": {},
   "outputs": [
    {
     "data": {
      "image/png": "[encoded data removed]",
      "text/plain": [
       "<Figure size 800x400 with 2 Axes>"
      ]
     },
     "metadata": {},
     "output_type": "display_data"
    }
   ],
   "source": [
    "#Testing\n",
    "top = ((x_tr_sc[top_int]).reshape((28,28)))\n",
    "test1 = all_expo(top, 2, 'light')\n",
    "# Plot test data\n",
    "fig, axgrid = plt.subplots(1, 2, figsize=(8, 4))\n",
    "shirt1 = test1[0]\n",
    "shirt2 = test1[1]\n",
    "ax5 = axgrid[0]\n",
    "ax6 = axgrid[1]\n",
    "x_SS = (shirt1).reshape((28,28))\n",
    "ax5.imshow(x_SS, vmin=0, vmax=1, cmap='gray')\n",
    "ax5.set_xticks([]); ax5.set_yticks([]);\n",
    "\n",
    "x_SS2 = shirt2.reshape((28,28))\n",
    "ax6.imshow(x_SS2, vmin=0, vmax=1, cmap='gray')\n",
    "ax6.set_xticks([]); ax6.set_yticks([]);\n",
    "\n",
    "plt.tight_layout();\n",
    "plt.show();"
   ]
  },
  {
   "cell_type": "markdown",
   "metadata": {},
   "source": [
    "## Creating New Dataset"
   ]
  },
  {
   "cell_type": "markdown",
   "metadata": {},
   "source": [
    "#### Dresses"
   ]
  },
  {
   "cell_type": "code",
   "execution_count": 6,
   "metadata": {},
   "outputs": [
    {
     "name": "stdout",
     "output_type": "stream",
     "text": [
      "(400, 784)\n",
      "(800, 784)\n"
     ]
    }
   ],
   "source": [
    "#adding transformed dresses:\n",
    "dresses = x_tr_sc[dress_int, :]\n",
    "print(dresses.shape)\n",
    "all_dresses = dresses\n",
    "for i in range(0, 400):\n",
    "    dress_pic= (dresses[i, :]).reshape((28, 28))\n",
    "    new_dress = noise_flip(dress_pic, 1)\n",
    "    all_dresses = np.vstack((all_dresses, new_dress))\n",
    "print(all_dresses.shape)\n",
    "assert(all_dresses.shape == (800, 784))"
   ]
  },
  {
   "cell_type": "markdown",
   "metadata": {},
   "source": [
    "#### Pullovers"
   ]
  },
  {
   "cell_type": "code",
   "execution_count": 7,
   "metadata": {},
   "outputs": [],
   "source": [
    "# Now the pull overs\n",
    "# 4 noise/flip + 1 rot/light + 1 rot/dark + 1 dark/noise= 7 transformations\n",
    "pulls = x_tr_sc[pull_int, :]\n",
    "all_pulls = pulls\n",
    "for i in range(0, 100):\n",
    "    pull_pic= (pulls[i, :]).reshape((28, 28))\n",
    "\n",
    "    #get four noisy & flipped image/pullovr\n",
    "    new_pull1 = noise_flip(pull_pic, 4) \n",
    "    all_pulls = np.vstack((all_pulls, new_pull1))\n",
    "\n",
    "    #Adding 1 rotated and lightened version of each pullover\n",
    "    new_pull2 = rot_expose(pull_pic, 1, 'light')\n",
    "    all_pulls = np.vstack((all_pulls, new_pull2))\n",
    "\n",
    "    #adding 1 rotated and darkedned version of each pullover\n",
    "    new_pull3 = rot_expose(pull_pic, 1, 'dark')\n",
    "    all_pulls = np.vstack((all_pulls, new_pull3))\n",
    "    \n",
    "    #get 1 noisy & darkened image/pullovr\n",
    "    new_pull4 = noise_exp(pull_pic, 1, 'dark')\n",
    "    all_pulls = np.vstack((all_pulls, new_pull4))\n",
    "\n",
    "assert(all_pulls.shape == (800, 784))"
   ]
  },
  {
   "cell_type": "markdown",
   "metadata": {},
   "source": [
    "#### Pants"
   ]
  },
  {
   "cell_type": "code",
   "execution_count": 16,
   "metadata": {},
   "outputs": [
    {
     "ename": "IndexError",
     "evalue": "index 20 is out of bounds for axis 0 with size 1",
     "output_type": "error",
     "traceback": [
      "\u001b[1;31m---------------------------------------------------------------------------\u001b[0m",
      "\u001b[1;31mIndexError\u001b[0m                                Traceback (most recent call last)",
      "\u001b[1;32mc:\\Users\\leigh\\OneDrive - Tufts\\cs135\\projectB\\problem2Images.ipynb Cell 14\u001b[0m line \u001b[0;36m1\n\u001b[0;32m     <a href='vscode-notebook-cell:/c%3A/Users/leigh/OneDrive%20-%20Tufts/cs135/projectB/problem2Images.ipynb#X36sZmlsZQ%3D%3D?line=9'>10</a>\u001b[0m all_trous \u001b[39m=\u001b[39m trousers    \u001b[39m#The final array to be returned\u001b[39;00m\n\u001b[0;32m     <a href='vscode-notebook-cell:/c%3A/Users/leigh/OneDrive%20-%20Tufts/cs135/projectB/problem2Images.ipynb#X36sZmlsZQ%3D%3D?line=11'>12</a>\u001b[0m \u001b[39m#two additional transformation to tr_pant:\u001b[39;00m\n\u001b[1;32m---> <a href='vscode-notebook-cell:/c%3A/Users/leigh/OneDrive%20-%20Tufts/cs135/projectB/problem2Images.ipynb#X36sZmlsZQ%3D%3D?line=12'>13</a>\u001b[0m tr_pant_pic\u001b[39m=\u001b[39m (tr_pant[i, :])\u001b[39m.\u001b[39mreshape((\u001b[39m28\u001b[39m, \u001b[39m28\u001b[39m))\n\u001b[0;32m     <a href='vscode-notebook-cell:/c%3A/Users/leigh/OneDrive%20-%20Tufts/cs135/projectB/problem2Images.ipynb#X36sZmlsZQ%3D%3D?line=13'>14</a>\u001b[0m tr_flipped \u001b[39m=\u001b[39m (np\u001b[39m.\u001b[39mfliplr(tr_pant_pic))\n\u001b[0;32m     <a href='vscode-notebook-cell:/c%3A/Users/leigh/OneDrive%20-%20Tufts/cs135/projectB/problem2Images.ipynb#X36sZmlsZQ%3D%3D?line=14'>15</a>\u001b[0m tr_flip_light \u001b[39m=\u001b[39mall_expo(tr_flipped, \u001b[39m1\u001b[39m, \u001b[39m'\u001b[39m\u001b[39mlight\u001b[39m\u001b[39m'\u001b[39m)\n",
      "\u001b[1;31mIndexError\u001b[0m: index 20 is out of bounds for axis 0 with size 1"
     ]
    }
   ],
   "source": [
    "#7 noise + 6 rotation + 4 light + 4 dark = 24 transformations<br>\n",
    "#7 noise/flip + 4 rot/light + 4 rot/dark + 1 dark/noise= 16 transformations\n",
    "va_trouser_idx = (y_va_df.index[y_va_df['class_name']=='trouser']).tolist()\n",
    "va_trousers = x_va_sc[va_trouser_idx[:20], :]\n",
    "assert(va_trousers.shape == (20, 784))\n",
    "tr_pant=x_tr_sc[trous_int, :]\n",
    "trousers = np.vstack((tr_pant, va_trousers))\n",
    "assert(trousers.shape == (21, 784))\n",
    "\n",
    "all_trous = trousers    #The final array to be returned\n",
    "\n",
    "#two additional transformation to tr_pant:\n",
    "tr_pant_pic= (tr_pant).reshape((28, 28))\n",
    "tr_flipped = (np.fliplr(tr_pant_pic))\n",
    "tr_flip_light =all_expo(tr_flipped, 1, 'light')\n",
    "all_trous = np.vstack((all_trous, tr_flipped.reshape((1, 784))))\n",
    "all_trous = np.vstck((all_trous, tr_flip_light))\n",
    "\n",
    "for i in range(0, 21):\n",
    "    pant_pic= (trousers[i, :]).reshape((28, 28))\n",
    "\n",
    "    # All seven noise\n",
    "    noisy_pant = all_noise(pant_pic)  \n",
    "    all_trous = np.vstack((all_trous, noisy_pant))\n",
    "\n",
    "    light_pant = all_expo(pant_pic, 4, 'light')\n",
    "    all_trous = np.vstack((all_trous, light_pant))\n",
    "\n",
    "    dark_pant = all_expo(pant_pic, 4, 'dark')\n",
    "    all_trous = np.vstack((all_trous, dark_pant))\n",
    "\n",
    "    rot_pant = all_rot(pant_pic, 6)\n",
    "    all_trous = np.vstack((all_trous, rot_pant))\n",
    "\n",
    "    #get four noisy & flipped image/pullovr\n",
    "    new_pant1 = noise_flip(pant_pic, 7) \n",
    "    all_trous = np.vstack((all_trous, new_pant1))\n",
    "\n",
    "    #Adding 1 rotated and lightened version of each pantover\n",
    "    new_pant2 = rot_expose(pant_pic, 4, 'light')\n",
    "    all_trous = np.vstack((all_trous, new_pant2))\n",
    "\n",
    "    #adding 1 rotated and darkedned version of each pantover\n",
    "    new_pant3 = rot_expose(pant_pic, 4, 'dark')\n",
    "    all_trous = np.vstack((all_trous, new_pant3))\n",
    "    \n",
    "    #get 1 noisy & darkened image/pantovr\n",
    "    new_pant4 = noise_exp(pant_pic, 1, 'dark')\n",
    "    all_trous = np.vstack((all_trous, new_pant4))\n",
    "    \n",
    "print(all_trous.shape)\n",
    "assert(all_trous.shape == (800, 784))"
   ]
  },
  {
   "cell_type": "markdown",
   "metadata": {},
   "source": [
    "#### tops"
   ]
  },
  {
   "cell_type": "code",
   "execution_count": null,
   "metadata": {},
   "outputs": [
    {
     "ename": "AssertionError",
     "evalue": "",
     "output_type": "error",
     "traceback": [
      "\u001b[1;31m---------------------------------------------------------------------------\u001b[0m",
      "\u001b[1;31mAssertionError\u001b[0m                            Traceback (most recent call last)",
      "\u001b[1;32mc:\\Users\\leigh\\OneDrive - Tufts\\cs135\\projectB\\problem2Images.ipynb Cell 16\u001b[0m line \u001b[0;36m4\n\u001b[0;32m     <a href='vscode-notebook-cell:/c%3A/Users/leigh/OneDrive%20-%20Tufts/cs135/projectB/problem2Images.ipynb#X52sZmlsZQ%3D%3D?line=42'>43</a>\u001b[0m     all_shirts \u001b[39m=\u001b[39m np\u001b[39m.\u001b[39mvstack((all_shirts, new_top4))\n\u001b[0;32m     <a href='vscode-notebook-cell:/c%3A/Users/leigh/OneDrive%20-%20Tufts/cs135/projectB/problem2Images.ipynb#X52sZmlsZQ%3D%3D?line=44'>45</a>\u001b[0m     flip_rot \u001b[39m=\u001b[39m all_rot(flipped_pant, \u001b[39m1\u001b[39m)\n\u001b[1;32m---> <a href='vscode-notebook-cell:/c%3A/Users/leigh/OneDrive%20-%20Tufts/cs135/projectB/problem2Images.ipynb#X52sZmlsZQ%3D%3D?line=46'>47</a>\u001b[0m \u001b[39massert\u001b[39;00m(all_shirts\u001b[39m.\u001b[39mshape \u001b[39m==\u001b[39m (\u001b[39m800\u001b[39m, \u001b[39m784\u001b[39m))\n",
      "\u001b[1;31mAssertionError\u001b[0m: "
     ]
    }
   ],
   "source": [
    "#7 noise/flip + 4 rot/light + 4 rot/dark + 1 dark/noise= 16 transformations\n",
    "va_top_idx = (y_va_df.index[y_va_df['class_name']=='top']).tolist()\n",
    "va_tops = x_va_sc[va_top_idx[:20], :]\n",
    "assert(va_trousers.shape == (20, 784))\n",
    "\n",
    "shirts = np.vstack(((x_tr_sc[top_int, :]), va_tops))\n",
    "assert(shirts.shape == (21, 784))\n",
    "\n",
    "all_shirts = shirts    #The final array to be returned\n",
    "for i in range(0, 21):\n",
    "    top_pic= (shirts[i, :]).reshape((28, 28))\n",
    "\n",
    "    # All seven noise\n",
    "    noisy_top = all_noise(top_pic)  \n",
    "    all_shirts = np.vstack((all_shirts, noisy_top))\n",
    "\n",
    "    flipped_top = (np.fliplr(top_pic))   #Flip the pic\n",
    "    all_shirts = np.vstack((all_shirts, flipped_top.reshape((1, 784))))\n",
    "\n",
    "    light_top = all_expo(top_pic, 4, 'light')\n",
    "    all_shirts = np.vstack((all_shirts, light_top))\n",
    "\n",
    "    dark_top = all_expo(top_pic, 4, 'dark')\n",
    "    all_shirts = np.vstack((all_shirts, dark_top))\n",
    "\n",
    "    rot_top = all_rot(top_pic, 8)\n",
    "    all_shirts = np.vstack((all_shirts, rot_top))\n",
    "\n",
    "    #get four noisy & flipped image/pullovr\n",
    "    new_top1 = noise_flip(top_pic, 7) \n",
    "    all_shirts = np.vstack((all_shirts, new_top1))\n",
    "\n",
    "    #Adding 1 rotated and lightened version of each pantover\n",
    "    new_top2 = rot_expose(top_pic, 4, 'light')\n",
    "    all_shirts = np.vstack((all_shirts, new_top2))\n",
    "\n",
    "    #adding 1 rotated and darkedned version of each pantover\n",
    "    new_top3 = rot_expose(top_pic, 4, 'dark')\n",
    "    all_shirts = np.vstack((all_shirts, new_top3))\n",
    "    \n",
    "    #get 1 noisy & darkened image/pantovr\n",
    "    new_top4 = noise_exp(top_pic, 1, 'dark')\n",
    "    all_shirts = np.vstack((all_shirts, new_top4))\n",
    "\n",
    "assert(all_shirts.shape == (800, 784))"
   ]
  },
  {
   "cell_type": "code",
   "execution_count": null,
   "metadata": {},
   "outputs": [],
   "source": []
  },
  {
   "cell_type": "markdown",
   "metadata": {},
   "source": [
    "## Testing each trasnformation to find bounds"
   ]
  },
  {
   "cell_type": "code",
   "execution_count": null,
   "metadata": {},
   "outputs": [
    {
     "data": {
      "image/png": "[encoded data removed]",
      "text/plain": [
       "<Figure size 800x400 with 2 Axes>"
      ]
     },
     "metadata": {},
     "output_type": "display_data"
    }
   ],
   "source": [
    "#Flip shirt, just use numpy...\n",
    "top = (x_tr_sc[top_int]).reshape((28,28))\n",
    "flip_top = (np.fliplr(top))\n",
    "show_image(x_tr_sc, top_int, flip_top)\n",
    "\n",
    "#Flipped image. Also array of new top images\n",
    "new_tops = flip_top.reshape((1, 784))   #1"
   ]
  },
  {
   "cell_type": "code",
   "execution_count": null,
   "metadata": {},
   "outputs": [
    {
     "data": {
      "image/png": "[encoded data removed]",
      "text/plain": [
       "<Figure size 800x400 with 2 Axes>"
      ]
     },
     "metadata": {},
     "output_type": "display_data"
    }
   ],
   "source": [
    "light_top1 = skimage.exposure.adjust_gamma(top, 0.9)    # light 0.1 -0.9 \n",
    "light_top2 = skimage.exposure.adjust_gamma(top, 0.1)  \n",
    "dark_top1 = skimage.exposure.adjust_gamma(top, 2)    #Dark 2 - 3\n",
    "dark_top2 = skimage.exposure.adjust_gamma(top, )    \n",
    "\n",
    "show_image(x_tr_sc, top_int, dark_top2)"
   ]
  },
  {
   "cell_type": "code",
   "execution_count": null,
   "metadata": {},
   "outputs": [
    {
     "data": {
      "image/png": "[encoded data removed]",
      "text/plain": [
       "<Figure size 800x400 with 2 Axes>"
      ]
     },
     "metadata": {},
     "output_type": "display_data"
    }
   ],
   "source": [
    "r_top = skimage.transform.rotate(top, -10)    # +/- 10 ~ 2 degrees \n",
    "show_image(x_tr_sc, top_int, r_top)"
   ]
  },
  {
   "cell_type": "code",
   "execution_count": null,
   "metadata": {},
   "outputs": [
    {
     "data": {
      "image/png": "[encoded data removed]",
      "text/plain": [
       "<Figure size 800x400 with 2 Axes>"
      ]
     },
     "metadata": {},
     "output_type": "display_data"
    }
   ],
   "source": [
    "noisy_top1 = skimage.util.random_noise(top, mode='gaussian')\n",
    "noisy_top2= skimage.util.random_noise(top, mode='localvar')\n",
    "noisy_top3= skimage.util.random_noise(top, mode='salt')\n",
    "noisy_top4= skimage.util.random_noise(top, mode='pepper')\n",
    "noisy_top5= skimage.util.random_noise(top, mode='s&p')\n",
    "noisy_top6= skimage.util.random_noise(top, mode='speckle')\n",
    "noisy_top7= skimage.util.random_noise(top, mode='poisson')\n",
    "\n",
    "show_image(x_tr_sc, top_int, noisy_top7)"
   ]
  }
 ],
 "metadata": {
  "kernelspec": {
   "display_name": "Python 3",
   "language": "python",
   "name": "python3"
  },
  "language_info": {
   "codemirror_mode": {
    "name": "ipython",
    "version": 3
   },
   "file_extension": ".py",
   "mimetype": "text/x-python",
   "name": "python",
   "nbconvert_exporter": "python",
   "pygments_lexer": "ipython3",
   "version": "3.10.13"
  }
 },
 "nbformat": 4,
 "nbformat_minor": 2
}
