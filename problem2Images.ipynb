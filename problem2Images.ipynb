{
 "cells": [
  {
   "cell_type": "markdown",
   "metadata": {},
   "source": [
    "## Making fun pictures:\n",
    "- dress (ID 3) 400 - Need 400 more. - 1 transformation / image<br>\n",
    "- Pullover (ID 2) - Need 700 more.  7 transformations/image<br>\n",
    "- top (ID 0) - Need 799 more.  ~39 transformations / image if we take 20 images from validation set. 1 image with 34 transformations <br>\n",
    "- trouser (ID 1) - Need 799 more. ~39 transformations / image. 1 image with 34 transformations<br>\n",
    "<br>\n",
    "---\n",
    "Available Transformations:<br>\n",
    "1. one Flip Image<br>\n",
    "2. 16 different rotations<br>\n",
    "3. 4 lighten image<br>\n",
    "4. 4 darken image<br>\n",
    "5. 7 types of noise addition.<br>\n",
    "\n",
    "#### Tops & Trousers: <br>\n",
    "- 7 noise + 1 flip + 8 rotation + 4 light + 4 dark = 24 transformations<br>\n",
    "- 7 noise/flip + 4 rot/light + 4 rot/dark + 1 dark/noise= 16 transformations<br>\n",
    "\n",
    "#### Pullovers: \n",
    "4 noise/flip + 1 rot/light + 1 rot/dark + 1 dark/noise= 7 transformations<br>\n",
    "\n",
    "#### Dress:\n",
    "1 noise/flip for each dress.\n"
   ]
  },
  {
   "cell_type": "code",
   "execution_count": 1,
   "metadata": {},
   "outputs": [],
   "source": [
    "from PIL import Image, ImageEnhance\n",
    "import skimage\n",
    "from load_data import load_data \n",
    "import numpy as np\n",
    "import matplotlib.pyplot as plt"
   ]
  },
  {
   "cell_type": "code",
   "execution_count": 2,
   "metadata": {},
   "outputs": [],
   "source": [
    "x_tr, y_tr_df = load_data('x_train.csv', 'y_train.csv')\n",
    "x_va, y_va_df = load_data('x_valid.csv', 'y_valid.csv')\n",
    "x_te = load_data('x_test.csv', 'y_valid.csv')[0]"
   ]
  },
  {
   "cell_type": "code",
   "execution_count": 3,
   "metadata": {},
   "outputs": [],
   "source": [
    "#Scaling images between 0 and 1. Works better with skimage\n",
    "x_tr_sc=np.divide(x_tr, 255)\n",
    "x_va_sc = np.divide(x_va, 255)"
   ]
  },
  {
   "cell_type": "code",
   "execution_count": 4,
   "metadata": {},
   "outputs": [],
   "source": [
    "#getting index for each class in training set:\n",
    "top_int = y_tr_df.index[y_tr_df['class_name']=='top']    #index 1\n",
    "trous_int = y_tr_df.index[y_tr_df['class_name']=='trouser']    #index 11\n",
    "dress_int =(y_tr_df.index[y_tr_df['class_name']=='dress']).tolist()\n",
    "pull_int =(y_tr_df.index[y_tr_df['class_name']=='pullover']).tolist()\n",
    "sneaker_int =(y_tr_df.index[y_tr_df['class_name']=='sneaker']).tolist()\n",
    "sandal_int =(y_tr_df.index[y_tr_df['class_name']=='sandal']).tolist()"
   ]
  },
  {
   "cell_type": "markdown",
   "metadata": {},
   "source": [
    "## Transformation Funcs for combination"
   ]
  },
  {
   "cell_type": "code",
   "execution_count": 157,
   "metadata": {},
   "outputs": [],
   "source": [
    "def all_noise(img_arr):\n",
    "    #library of noise types\n",
    "    noises = ['gaussian', 'localvar', 'salt', 'pepper', 's&p', 'speckle', 'poisson']\n",
    "\n",
    "    loud= np.ones((7, 784)) #space to put transformations\n",
    "    for i in range(len(noises)):\n",
    "        noisier = skimage.util.random_noise(img_arr, noises[i])\n",
    "        loud[i]= noisier.reshape((1, 784))\n",
    "    return loud"
   ]
  },
  {
   "cell_type": "code",
   "execution_count": 172,
   "metadata": {},
   "outputs": [],
   "source": [
    "def all_rot(img_arr, num_trans):\n",
    "    all_rotations = np.ones((num_trans, 784))\n",
    "    degree = np.random.uniform(-10, 10, size=num_trans)\n",
    "    \n",
    "    for i in range(0, num_trans):\n",
    "        rotated = skimage.transform.rotate(img_arr, degree[i])\n",
    "        all_rotations[i] = rotated.reshape((1, 784))\n",
    "    return all_rotations"
   ]
  },
  {
   "cell_type": "code",
   "execution_count": 168,
   "metadata": {},
   "outputs": [],
   "source": [
    "def all_expo(img_arr, num_trans, dir):\n",
    "    all_exposures = np.ones((num_trans, 784))\n",
    "    \n",
    "    if dir == 'light':\n",
    "        up = np.random.uniform(0.1, 0.9, size=num_trans)\n",
    "\n",
    "        for i in range(num_trans):\n",
    "            lighter = skimage.exposure.adjust_gamma(img_arr, up[i])\n",
    "            all_exposures[i]= lighter.reshape((1, 784))\n",
    "\n",
    "    elif dir == 'dark': \n",
    "        dwn = np.random.uniform(2, 3, size=num_trans)\n",
    "\n",
    "        for i in range(num_trans):\n",
    "            darker = np.asarray(skimage.exposure.adjust_gamma(img_arr, dwn[i]))\n",
    "            all_exposures[i]= (darker.reshape((1, 784)))\n",
    "\n",
    "    return all_exposures\n",
    "    "
   ]
  },
  {
   "cell_type": "code",
   "execution_count": 27,
   "metadata": {},
   "outputs": [],
   "source": [
    "#function just to see ONE instance to make sure picture looks as intended.\n",
    "def show_image(x_set, index, newImg):\n",
    "    fig, axgrid = plt.subplots(1, 2, figsize=(8, 4))\n",
    "\n",
    "    ax1 = axgrid[0]\n",
    "    ax2 = axgrid[1]\n",
    "    x_SS2 = x_set[index].reshape((28,28))\n",
    "\n",
    "    #shows the original image\n",
    "    ax1.imshow(x_SS2, vmin=0, vmax=1, cmap='gray')\n",
    "    ax1.set_xticks([]); ax1.set_yticks([]);\n",
    "\n",
    "    #display new image.\n",
    "    ax2.imshow(newImg, vmin=0, vmax=1, cmap='gray')\n",
    "    ax2.set_xticks([]); ax2.set_yticks([]);\n",
    "\n",
    "    plt.tight_layout();\n",
    "    plt.show();"
   ]
  },
  {
   "cell_type": "code",
   "execution_count": null,
   "metadata": {},
   "outputs": [],
   "source": [
    "#function just to see ONE instance to make sure picture looks as intended.\n",
    "def show_image(x_set, index, newImg):\n",
    "    fig, axgrid = plt.subplots(1, 2, figsize=(8, 4))\n",
    "\n",
    "    ax1 = axgrid[0]\n",
    "    ax2 = axgrid[1]\n",
    "    x_SS2 = x_set[index].reshape((28,28))\n",
    "\n",
    "    #shows the original image\n",
    "    ax1.imshow(x_SS2, vmin=0, vmax=1, cmap='gray')\n",
    "    ax1.set_xticks([]); ax1.set_yticks([]);\n",
    "\n",
    "    #display new image.\n",
    "    ax2.imshow(newImg, vmin=0, vmax=1, cmap='gray')\n",
    "    ax2.set_xticks([]); ax2.set_yticks([]);\n",
    "\n",
    "    plt.tight_layout();\n",
    "    plt.show();"
   ]
  },
  {
   "cell_type": "code",
   "execution_count": 103,
   "metadata": {},
   "outputs": [],
   "source": [
    "def noise_exp(img_arr, num_trans, dir):\n",
    "    #library of noise types\n",
    "    noises = ['gaussian', 'localvar', 'salt', 'pepper', 's&p', 'speckle', 'poisson']\n",
    "\n",
    "    noisy_exp= np.ones((num_trans, 784)) #space to put transformations\n",
    "       \n",
    "    for i in range(num_trans):\n",
    "        sound = np.random.choice(noises)   #picks random sound \n",
    "        noisy_img = skimage.util.random_noise(img_arr, sound)\n",
    "        \n",
    "        if dir == 'light':\n",
    "            up = np.random.uniform(0.1, 0.9, size=1)\n",
    "            lighter = skimage.exposure.adjust_gamma(noisy_img, up)\n",
    "            noisy_exp[i]= lighter.reshape((1, 784))\n",
    "        elif dir == 'dark': \n",
    "            dwn = np.random.uniform(2, 3, size=1)\n",
    "            darker = np.asarray(skimage.exposure.adjust_gamma(noisy_img, dwn))\n",
    "            noisy_exp[i]= (darker.reshape((1, 784)))\n",
    "\n",
    "    return noisy_exp"
   ]
  },
  {
   "cell_type": "code",
   "execution_count": 163,
   "metadata": {},
   "outputs": [],
   "source": [
    "# adds noise and flips ONE IMAGE and returns (z, 782) array. Where z is the\n",
    "# number of noisy and flipped images we want. \n",
    "# Must give (28, 28 array)\n",
    "def noise_flip(img_arr, num_trans):\n",
    "    flipped = (np.fliplr(img_arr))\n",
    "\n",
    "    #library of noise types\n",
    "    noises = ['gaussian', 'localvar', 'salt', 'pepper', 's&p', 'speckle', 'poisson']\n",
    "\n",
    "    noisy_flips = np.ones((num_trans, 784)) #space to put transformations\n",
    "    sound = np.random.choice(noises, size=num_trans)   #picks random sounds \n",
    "\n",
    "    # Randomly chooses noise and puts it into the array.\n",
    "    for i in range(num_trans):\n",
    "        noisy_img = skimage.util.random_noise(flipped, sound[i])\n",
    "        noisy_flips[i] = (noisy_img.reshape((1, 784)))\n",
    "\n",
    "    return noisy_flips"
   ]
  },
  {
   "cell_type": "code",
   "execution_count": 95,
   "metadata": {},
   "outputs": [],
   "source": [
    "# Randomly rotates and lighten/darken ONE IMAGE and returns (z, 782) array.\n",
    "# where z is the number of noisy and flipped images we want. \n",
    "# Must give (28, 28 array) and dir = 'light' or 'dark'\n",
    "def rot_expose(img_arr, num_trans, dir):\n",
    "    rotated_exp = np.ones((num_trans, 784))\n",
    "    degree = np.random.uniform(-10, 10, num_trans)  #choose random degrees rot.\n",
    "\n",
    "    for i in range(num_trans):\n",
    "        rotated = skimage.transform.rotate(img_arr, degree[i])\n",
    "        \n",
    "        if dir == 'light':\n",
    "            up = np.random.uniform(0.1, 0.9, size=1)\n",
    "            lighter = skimage.exposure.adjust_gamma(rotated, up[i])\n",
    "            rotated_exp[i]= lighter.reshape((1, 784))\n",
    "        elif dir == 'dark': \n",
    "            dwn = np.random.uniform(2, 3, size=1)\n",
    "            darker = np.asarray(skimage.exposure.adjust_gamma(rotated, dwn))\n",
    "            rotated_exp[i]= (darker.reshape((1, 784)))\n",
    "\n",
    "    return rotated_exp"
   ]
  },
  {
   "cell_type": "code",
   "execution_count": 169,
   "metadata": {},
   "outputs": [
    {
     "data": {
      "image/png": "[encoded data removed]",
      "text/plain": [
       "<Figure size 800x400 with 2 Axes>"
      ]
     },
     "metadata": {},
     "output_type": "display_data"
    }
   ],
   "source": [
    "#Testing\n",
    "top = ((x_tr_sc[top_int]).reshape((28,28)))\n",
    "test1 = all_expo(top, 2, 'light')\n",
    "# Plot test data\n",
    "fig, axgrid = plt.subplots(1, 2, figsize=(8, 4))\n",
    "shirt1 = test1[0]\n",
    "shirt2 = test1[1]\n",
    "ax5 = axgrid[0]\n",
    "ax6 = axgrid[1]\n",
    "x_SS = (shirt1).reshape((28,28))\n",
    "ax5.imshow(x_SS, vmin=0, vmax=1, cmap='gray')\n",
    "ax5.set_xticks([]); ax5.set_yticks([]);\n",
    "\n",
    "x_SS2 = shirt2.reshape((28,28))\n",
    "ax6.imshow(x_SS2, vmin=0, vmax=1, cmap='gray')\n",
    "ax6.set_xticks([]); ax6.set_yticks([]);\n",
    "\n",
    "plt.tight_layout();\n",
    "plt.show();"
   ]
  },
  {
   "cell_type": "markdown",
   "metadata": {},
   "source": [
    "## Creating New Dataset"
   ]
  },
  {
   "cell_type": "markdown",
   "metadata": {},
   "source": [
    "#### Dresses"
   ]
  },
  {
   "cell_type": "code",
   "execution_count": 139,
   "metadata": {},
   "outputs": [
    {
     "name": "stdout",
     "output_type": "stream",
     "text": [
      "(400, 784)\n",
      "(800, 784)\n"
     ]
    }
   ],
   "source": [
    "#adding transformed dresses:\n",
    "dresses = x_tr_sc[dress_int, :]\n",
    "print(dresses.shape)\n",
    "all_dresses = dresses\n",
    "for i in range(0, 400):\n",
    "    dress_pic= (dresses[i, :]).reshape((28, 28))\n",
    "    new_dress = noise_flip(dress_pic, 1)\n",
    "    all_dresses = np.vstack((all_dresses, new_dress))\n",
    "print(all_dresses.shape)\n",
    "assert(all_dresses.shape == (800, 784))"
   ]
  },
  {
   "cell_type": "markdown",
   "metadata": {},
   "source": [
    "#### Pullovers"
   ]
  },
  {
   "cell_type": "code",
   "execution_count": 141,
   "metadata": {},
   "outputs": [],
   "source": [
    "# Now the pull overs\n",
    "# 4 noise/flip + 1 rot/light + 1 rot/dark + 1 dark/noise= 7 transformations\n",
    "pulls = x_tr_sc[pull_int, :]\n",
    "all_pulls = pulls\n",
    "for i in range(0, 100):\n",
    "    pull_pic= (pulls[i, :]).reshape((28, 28))\n",
    "\n",
    "    #get four noisy & flipped image/pullovr\n",
    "    new_pull1 = noise_flip(pull_pic, 4) \n",
    "    all_pulls = np.vstack((all_pulls, new_pull1))\n",
    "\n",
    "    #Adding 1 rotated and lightened version of each pullover\n",
    "    new_pull2 = rot_expose(pull_pic, 1, 'light')\n",
    "    all_pulls = np.vstack((all_pulls, new_pull2))\n",
    "\n",
    "    #adding 1 rotated and darkedned version of each pullover\n",
    "    new_pull3 = rot_expose(pull_pic, 1, 'dark')\n",
    "    all_pulls = np.vstack((all_pulls, new_pull3))\n",
    "    \n",
    "    #get 1 noisy & darkened image/pullovr\n",
    "    new_pull4 = noise_exp(pull_pic, 1, 'dark')\n",
    "    all_pulls = np.vstack((all_pulls, new_pull4))\n",
    "\n",
    "assert(all_pulls.shape == (800, 784))"
   ]
  },
  {
   "cell_type": "markdown",
   "metadata": {},
   "source": [
    "#### Pants"
   ]
  },
  {
   "cell_type": "code",
   "execution_count": 173,
   "metadata": {},
   "outputs": [],
   "source": [
    "#7 noise/flip + 4 rot/light + 4 rot/dark + 1 dark/noise= 16 transformations\n",
    "va_trouser_idx = (y_va_df.index[y_va_df['class_name']=='trouser']).tolist()\n",
    "va_trousers = x_va_sc[va_trouser_idx[:20], :]\n",
    "assert(va_trousers.shape == (20, 784))\n",
    "\n",
    "trousers = np.vstack(((x_tr_sc[trous_int, :]), va_trousers))\n",
    "assert(trousers.shape == (21, 784))\n",
    "\n",
    "all_trous = trousers    #The final array to be returned\n",
    "for i in range(0, 21):\n",
    "    pant_pic= (trousers[i, :]).reshape((28, 28))\n",
    "\n",
    "    # All seven noise\n",
    "    noisy_pant = all_noise(pant_pic)  \n",
    "    all_trous = np.vstack((all_trous, noisy_pant))\n",
    "\n",
    "    flipped_pant = (np.fliplr(pant_pic))   #Flip the pic\n",
    "    all_trous = np.vstack((all_trous, flipped_pant.reshape((1, 784))))\n",
    "\n",
    "    light_pant = all_expo(pant_pic, 4, 'light')\n",
    "    all_trous = np.vstack((all_trous, light_pant))\n",
    "\n",
    "    dark_pant = all_expo(pant_pic, 4, 'dark')\n",
    "    all_trous = np.vstack((all_trous, dark_pant))\n",
    "\n",
    "    rot_pant = all_rot(pant_pic, 8)\n",
    "    all_trous = np.vstack((all_trous, rot_pant))\n",
    "\n",
    "    #get four noisy & flipped image/pullovr\n",
    "    new_pant1 = noise_flip(pant_pic, 7) \n",
    "    all_trous = np.vstack((all_trous, new_pant1))\n",
    "\n",
    "    #Adding 1 rotated and lightened version of each pantover\n",
    "    new_pant2 = rot_expose(pant_pic, 4, 'light')\n",
    "    all_trous = np.vstack((all_trous, new_pant2))\n",
    "\n",
    "    #adding 1 rotated and darkedned version of each pantover\n",
    "    new_pant3 = rot_expose(pant_pic, 4, 'dark')\n",
    "    all_trous = np.vstack((all_trous, new_pant3))\n",
    "    \n",
    "    #get 1 noisy & darkened image/pantovr\n",
    "    new_pant4 = noise_exp(pant_pic, 1, 'dark')\n",
    "    all_trous = np.vstack((all_trous, new_pant4))\n",
    "\n",
    "    flip_rot = all_rot(flipped_pant, 1)\n",
    "\n",
    "assert(all_dresses.shape == (800, 784))"
   ]
  },
  {
   "cell_type": "code",
   "execution_count": null,
   "metadata": {},
   "outputs": [],
   "source": [
    "#7 noise/flip + 4 rot/light + 4 rot/dark + 1 dark/noise= 16 transformations\n",
    "va_trouser_idx = (y_va_df.index[y_va_df['class_name']=='trouser']).tolist()\n",
    "va_trousers = x_va_sc[va_trouser_idx[:20], :]\n",
    "assert(va_trousers.shape == (20, 784))\n",
    "\n",
    "trousers = np.vstack(((x_tr_sc[trous_int, :]), va_trousers))\n",
    "assert(trousers.shape == (21, 784))\n",
    "\n",
    "all_trous = trousers    #The final array to be returned\n",
    "for i in range(0, 21):\n",
    "    pant_pic= (trousers[i, :]).reshape((28, 28))\n",
    "\n",
    "    # All seven noise\n",
    "    noisy_pant = all_noise(pant_pic)  \n",
    "    all_trous = np.vstack((all_trous, noisy_pant))\n",
    "\n",
    "    flipped_pant = (np.fliplr(pant_pic))   #Flip the pic\n",
    "    all_trous = np.vstack((all_trous, flipped_pant.reshape((1, 784))))\n",
    "\n",
    "    light_pant = all_expo(pant_pic, 4, 'light')\n",
    "    all_trous = np.vstack((all_trous, light_pant))\n",
    "\n",
    "    dark_pant = all_expo(pant_pic, 4, 'dark')\n",
    "    all_trous = np.vstack((all_trous, dark_pant))\n",
    "\n",
    "    rot_pant = all_rot(pant_pic, 8)\n",
    "    all_trous = np.vstack((all_trous, rot_pant))\n",
    "\n",
    "    #get four noisy & flipped image/pullovr\n",
    "    new_pant1 = noise_flip(pant_pic, 7) \n",
    "    all_trous = np.vstack((all_trous, new_pant1))\n",
    "\n",
    "    #Adding 1 rotated and lightened version of each pantover\n",
    "    new_pant2 = rot_expose(pant_pic, 4, 'light')\n",
    "    all_trous = np.vstack((all_trous, new_pant2))\n",
    "\n",
    "    #adding 1 rotated and darkedned version of each pantover\n",
    "    new_pant3 = rot_expose(pant_pic, 4, 'dark')\n",
    "    all_trous = np.vstack((all_trous, new_pant3))\n",
    "    \n",
    "    #get 1 noisy & darkened image/pantovr\n",
    "    new_pant4 = noise_exp(pant_pic, 1, 'dark')\n",
    "    all_trous = np.vstack((all_trous, new_pant4))\n",
    "\n",
    "    flip_rot = all_rot(flipped_pant, 1)\n",
    "\n",
    "assert(all_dresses.shape == (800, 784))"
   ]
  },
  {
   "cell_type": "markdown",
   "metadata": {},
   "source": [
    "## Testing each trasnformation to find bounds"
   ]
  },
  {
   "cell_type": "code",
   "execution_count": 9,
   "metadata": {},
   "outputs": [
    {
     "data": {
      "image/png": "[encoded data removed]",
      "text/plain": [
       "<Figure size 800x400 with 2 Axes>"
      ]
     },
     "metadata": {},
     "output_type": "display_data"
    }
   ],
   "source": [
    "#Flip shirt, just use numpy...\n",
    "top = (x_tr_sc[top_int]).reshape((28,28))\n",
    "flip_top = (np.fliplr(top))\n",
    "show_image(x_tr_sc, top_int, flip_top)\n",
    "\n",
    "#Flipped image. Also array of new top images\n",
    "new_tops = flip_top.reshape((1, 784))   #1"
   ]
  },
  {
   "cell_type": "code",
   "execution_count": 66,
   "metadata": {},
   "outputs": [
    {
     "data": {
      "image/png": "[encoded data removed]",
      "text/plain": [
       "<Figure size 800x400 with 2 Axes>"
      ]
     },
     "metadata": {},
     "output_type": "display_data"
    }
   ],
   "source": [
    "light_top1 = skimage.exposure.adjust_gamma(top, 0.9)    # light 0.1 -0.9 \n",
    "light_top2 = skimage.exposure.adjust_gamma(top, 0.1)  \n",
    "dark_top1 = skimage.exposure.adjust_gamma(top, 2)    #Dark 2 - 3\n",
    "dark_top2 = skimage.exposure.adjust_gamma(top, )    \n",
    "\n",
    "show_image(x_tr_sc, top_int, dark_top2)"
   ]
  },
  {
   "cell_type": "code",
   "execution_count": 11,
   "metadata": {},
   "outputs": [
    {
     "data": {
      "image/png": "[encoded data removed]",
      "text/plain": [
       "<Figure size 800x400 with 2 Axes>"
      ]
     },
     "metadata": {},
     "output_type": "display_data"
    }
   ],
   "source": [
    "r_top = skimage.transform.rotate(top, -10)    # +/- 10 ~ 2 degrees \n",
    "show_image(x_tr_sc, top_int, r_top)"
   ]
  },
  {
   "cell_type": "code",
   "execution_count": 12,
   "metadata": {},
   "outputs": [
    {
     "data": {
      "image/png": "[encoded data removed]",
      "text/plain": [
       "<Figure size 800x400 with 2 Axes>"
      ]
     },
     "metadata": {},
     "output_type": "display_data"
    }
   ],
   "source": [
    "noisy_top1 = skimage.util.random_noise(top, mode='gaussian')\n",
    "noisy_top2= skimage.util.random_noise(top, mode='localvar')\n",
    "noisy_top3= skimage.util.random_noise(top, mode='salt')\n",
    "noisy_top4= skimage.util.random_noise(top, mode='pepper')\n",
    "noisy_top5= skimage.util.random_noise(top, mode='s&p')\n",
    "noisy_top6= skimage.util.random_noise(top, mode='speckle')\n",
    "noisy_top7= skimage.util.random_noise(top, mode='poisson')\n",
    "\n",
    "show_image(x_tr_sc, top_int, noisy_top7)"
   ]
  },
  {
   "cell_type": "code",
   "execution_count": null,
   "metadata": {},
   "outputs": [],
   "source": []
  }
 ],
 "metadata": {
  "kernelspec": {
   "display_name": "Python 3",
   "language": "python",
   "name": "python3"
  },
  "language_info": {
   "codemirror_mode": {
    "name": "ipython",
    "version": 3
   },
   "file_extension": ".py",
   "mimetype": "text/x-python",
   "name": "python",
   "nbconvert_exporter": "python",
   "pygments_lexer": "ipython3",
   "version": "3.10.13"
  }
 },
 "nbformat": 4,
 "nbformat_minor": 2
}
