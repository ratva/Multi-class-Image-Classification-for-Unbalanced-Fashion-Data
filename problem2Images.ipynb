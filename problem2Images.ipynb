{
 "cells": [
  {
   "cell_type": "markdown",
   "metadata": {},
   "source": [
    "## Making fun pictures:\n",
    "- dress (ID 3) 400 - Need 400 more. - 1 transformation / image<br>\n",
    "- Pullover (ID 2) - Need 700 more.  7 transformations/image<br>\n",
    "- top (ID 0) - Need 799 more.  ~37 transformations / image if we take 20 images from validation set. 1 image with 39 transformations <br>\n",
    "- trouser (ID 1) - Need 799 more. ~37 transformations / image. 1 image with 39 transformations<br>\n",
    "<br>\n",
    "---\n",
    "Available Transformations:<br>\n",
    "1. one Flip Image<br>\n",
    "2. 16 different rotations<br>\n",
    "3. 4 lighten image<br>\n",
    "4. 4 darken image<br>\n",
    "5. 7 types of noise addition.<br>\n",
    "\n",
    "#### Tops & Trousers: <br>\n",
    "- 7 noise + 6 rotation + 4 light + 4 dark = 24 transformations<br>\n",
    "- 7 noise/flip + 4 rot/light + 4 rot/dark + 1 dark/noise= 16 transformations<br>\n",
    "\n",
    "#### Pullovers: \n",
    "4 noise/flip + 1 rot/light + 1 rot/dark + 1 dark/noise= 7 transformations<br>\n",
    "\n",
    "#### Dress:\n",
    "1 noise/flip for each dress.\n"
   ]
  },
  {
   "cell_type": "code",
   "execution_count": 2,
   "metadata": {},
   "outputs": [],
   "source": [
    "from PIL import Image, ImageEnhance\n",
    "import skimage\n",
    "from load_data import load_data \n",
    "import numpy as np\n",
    "import pandas as pd\n",
    "import matplotlib.pyplot as plt\n",
    "from transfomations import all_rot, all_noise, all_expo, show_image, noise_exp, noise_flip, rot_expose"
   ]
  },
  {
   "cell_type": "code",
   "execution_count": 3,
   "metadata": {},
   "outputs": [],
   "source": [
    "x_tr, y_tr_df = load_data('x_train.csv', 'y_train.csv')\n",
    "x_va, y_va_df = load_data('x_valid.csv', 'y_valid.csv')\n",
    "x_te = load_data('x_test.csv', 'y_valid.csv')[0]"
   ]
  },
  {
   "cell_type": "code",
   "execution_count": 4,
   "metadata": {},
   "outputs": [],
   "source": [
    "# Combine training and validation datasets\n",
    "x_all_sc = np.divide(np.vstack((x_tr,x_va)), 255)\n",
    "y_all_df = pd.concat([y_tr_df, y_va_df])"
   ]
  },
  {
   "cell_type": "code",
   "execution_count": 5,
   "metadata": {},
   "outputs": [],
   "source": [
    "#Scaling images between 0 and 1. Works better with skimage\n",
    "x_tr_sc=np.divide(x_tr, 255)\n",
    "x_va_sc = np.divide(x_va, 255)"
   ]
  },
  {
   "cell_type": "code",
   "execution_count": 6,
   "metadata": {},
   "outputs": [],
   "source": [
    "#getting index for each class in training set:\n",
    "top_int = y_tr_df.index[y_tr_df['class_name']=='top']    #index 1\n",
    "trous_int = y_tr_df.index[y_tr_df['class_name']=='trouser']    #index 11\n",
    "dress_int =(y_tr_df.index[y_tr_df['class_name']=='dress']).tolist()\n",
    "pull_int =(y_tr_df.index[y_tr_df['class_name']=='pullover']).tolist()\n",
    "sneaker_int =(y_tr_df.index[y_tr_df['class_name']=='sneaker']).tolist()\n",
    "sandal_int =(y_tr_df.index[y_tr_df['class_name']=='sandal']).tolist()"
   ]
  },
  {
   "cell_type": "markdown",
   "metadata": {},
   "source": [
    "## Transformation Funcs for combination"
   ]
  },
  {
   "cell_type": "code",
   "execution_count": 7,
   "metadata": {},
   "outputs": [
    {
     "data": {
      "image/png": "[encoded data removed]",
      "text/plain": [
       "<Figure size 800x400 with 2 Axes>"
      ]
     },
     "metadata": {},
     "output_type": "display_data"
    }
   ],
   "source": [
    "#Testing\n",
    "top = ((x_tr_sc[top_int]).reshape((28,28)))\n",
    "test1 = all_expo(top, 2, 'light')\n",
    "# Plot test data\n",
    "fig, axgrid = plt.subplots(1, 2, figsize=(8, 4))\n",
    "shirt1 = test1[0]\n",
    "shirt2 = test1[1]\n",
    "ax5 = axgrid[0]\n",
    "ax6 = axgrid[1]\n",
    "x_SS = (shirt1).reshape((28,28))\n",
    "ax5.imshow(x_SS, vmin=0, vmax=1, cmap='gray')\n",
    "ax5.set_xticks([]); ax5.set_yticks([]);\n",
    "\n",
    "x_SS2 = shirt2.reshape((28,28))\n",
    "ax6.imshow(x_SS2, vmin=0, vmax=1, cmap='gray')\n",
    "ax6.set_xticks([]); ax6.set_yticks([]);\n",
    "\n",
    "plt.tight_layout();\n",
    "plt.show();"
   ]
  },
  {
   "cell_type": "markdown",
   "metadata": {},
   "source": [
    "## Creating New Dataset"
   ]
  },
  {
   "cell_type": "markdown",
   "metadata": {},
   "source": [
    "#### 200 more sandals"
   ]
  },
  {
   "cell_type": "markdown",
   "metadata": {},
   "source": [
    "sandals = x_tr_sc[sandal_int, :]  #grabbing first 200 sandals\n",
    "print(sandals.shape)\n",
    "all_sandals = sandals\n",
    "for i in range(0, 200):\n",
    "    sandal_pic = (sandals[i, :]).reshape((28, 28))\n",
    "    new_sandal = noise_exp(sandal_pic, 1, 'dark')\n",
    "    all_sandals = np.vstack((all_sandals, new_sandal))\n",
    "assert(all_sandals.shape == (1000, 784))"
   ]
  },
  {
   "cell_type": "markdown",
   "metadata": {},
   "source": [
    "#### Dresses"
   ]
  },
  {
   "cell_type": "code",
   "execution_count": 33,
   "metadata": {},
   "outputs": [
    {
     "name": "stdout",
     "output_type": "stream",
     "text": [
      "(400, 784)\n",
      "(800, 784)\n"
     ]
    }
   ],
   "source": [
    "#adding transformed dresses:\n",
    "dresses = x_tr_sc[dress_int, :]\n",
    "print(dresses.shape)\n",
    "all_dresses = dresses\n",
    "for i in range(0, 400):\n",
    "    dress_pic= (dresses[i, :]).reshape((28, 28))\n",
    "    new_dress = noise_flip(dress_pic, 1)\n",
    "    all_dresses = np.vstack((all_dresses, new_dress))\n",
    "print(all_dresses.shape)\n",
    "assert(all_dresses.shape == (800, 784))"
   ]
  },
  {
   "cell_type": "markdown",
   "metadata": {},
   "source": [
    "#### Pullovers"
   ]
  },
  {
   "cell_type": "code",
   "execution_count": 34,
   "metadata": {},
   "outputs": [],
   "source": [
    "# Now the pull overs\n",
    "# 4 noise/flip + 1 rot/light + 1 rot/dark + 1 dark/noise= 7 transformations\n",
    "pulls = x_tr_sc[pull_int, :]\n",
    "all_pulls = pulls\n",
    "for i in range(0, 100):\n",
    "    pull_pic= (pulls[i, :]).reshape((28, 28))\n",
    "\n",
    "    #get four noisy & flipped image/pullovr\n",
    "    new_pull1 = noise_flip(pull_pic, 4) \n",
    "    all_pulls = np.vstack((all_pulls, new_pull1))\n",
    "\n",
    "    #Adding 1 rotated and lightened version of each pullover\n",
    "    new_pull2 = rot_expose(pull_pic, 1, 'light')\n",
    "    all_pulls = np.vstack((all_pulls, new_pull2))\n",
    "\n",
    "    #adding 1 rotated and darkedned version of each pullover\n",
    "    new_pull3 = rot_expose(pull_pic, 1, 'dark')\n",
    "    all_pulls = np.vstack((all_pulls, new_pull3))\n",
    "    \n",
    "    #get 1 noisy & darkened image/pullovr\n",
    "    new_pull4 = noise_exp(pull_pic, 1, 'dark')\n",
    "    all_pulls = np.vstack((all_pulls, new_pull4))\n",
    "\n",
    "assert(all_pulls.shape == (800, 784))"
   ]
  },
  {
   "cell_type": "markdown",
   "metadata": {},
   "source": [
    "#### Pants"
   ]
  },
  {
   "cell_type": "code",
   "execution_count": 35,
   "metadata": {},
   "outputs": [
    {
     "name": "stdout",
     "output_type": "stream",
     "text": [
      "(800, 784)\n"
     ]
    }
   ],
   "source": [
    "#7 noise + 6 rotation + 4 light + 4 dark = 24 transformations<br>\n",
    "#7 noise/flip + 4 rot/light + 4 rot/dark + 1 dark/noise= 16 transformations\n",
    "va_trouser_idx = (y_va_df.index[y_va_df['class_name']=='trouser']).tolist()\n",
    "va_trousers = x_va_sc[va_trouser_idx[:20], :]\n",
    "assert(va_trousers.shape == (20, 784))\n",
    "tr_pant=x_tr_sc[trous_int, :]\n",
    "trousers = np.vstack((tr_pant, va_trousers))\n",
    "assert(trousers.shape == (21, 784))\n",
    "\n",
    "all_trous = trousers    #The final array to be returned\n",
    "\n",
    "#two additional transformation to tr_pant:\n",
    "tr_pant_pic= (tr_pant).reshape((28, 28))\n",
    "tr_flipped = (np.fliplr(tr_pant_pic))\n",
    "tr_flip_light =all_expo(tr_flipped, 1, 'light')\n",
    "all_trous = np.vstack((all_trous, tr_flipped.reshape((1, 784))))\n",
    "all_trous = np.vstack((all_trous, tr_flip_light))\n",
    "\n",
    "for i in range(0, 21):\n",
    "    pant_pic= (trousers[i, :]).reshape((28, 28))\n",
    "\n",
    "    # All seven noise\n",
    "    noisy_pant = all_noise(pant_pic)  \n",
    "    all_trous = np.vstack((all_trous, noisy_pant))\n",
    "\n",
    "    light_pant = all_expo(pant_pic, 4, 'light')\n",
    "    all_trous = np.vstack((all_trous, light_pant))\n",
    "\n",
    "    dark_pant = all_expo(pant_pic, 4, 'dark')\n",
    "    all_trous = np.vstack((all_trous, dark_pant))\n",
    "\n",
    "    rot_pant = all_rot(pant_pic, 6)\n",
    "    all_trous = np.vstack((all_trous, rot_pant))\n",
    "\n",
    "    #get four noisy & flipped image/pullovr\n",
    "    new_pant1 = noise_flip(pant_pic, 7) \n",
    "    all_trous = np.vstack((all_trous, new_pant1))\n",
    "\n",
    "    #Adding 1 rotated and lightened version of each pantover\n",
    "    new_pant2 = rot_expose(pant_pic, 4, 'light')\n",
    "    all_trous = np.vstack((all_trous, new_pant2))\n",
    "\n",
    "    #adding 1 rotated and darkedned version of each pantover\n",
    "    new_pant3 = rot_expose(pant_pic, 4, 'dark')\n",
    "    all_trous = np.vstack((all_trous, new_pant3))\n",
    "    \n",
    "    #get 1 noisy & darkened image/pantovr\n",
    "    new_pant4 = noise_exp(pant_pic, 1, 'dark')\n",
    "    all_trous = np.vstack((all_trous, new_pant4))\n",
    "    \n",
    "print(all_trous.shape)\n",
    "assert(all_trous.shape == (800, 784))"
   ]
  },
  {
   "cell_type": "markdown",
   "metadata": {},
   "source": [
    "#### tops"
   ]
  },
  {
   "cell_type": "code",
   "execution_count": 36,
   "metadata": {},
   "outputs": [
    {
     "name": "stdout",
     "output_type": "stream",
     "text": [
      "(800, 784)\n"
     ]
    }
   ],
   "source": [
    "#7 noise + 6 rotation + 4 light + 4 dark = 24 transformations<br>\n",
    "#7 noise/flip + 4 rot/light + 4 rot/dark + 1 dark/noise= 16 transformations\n",
    "va_tops_idx = (y_va_df.index[y_va_df['class_name']=='top']).tolist()\n",
    "va_tops = x_va_sc[va_tops_idx[:20], :]\n",
    "assert(va_tops.shape == (20, 784))\n",
    "tr_top=x_tr_sc[top_int, :]\n",
    "tops = np.vstack((tr_top, va_tops))\n",
    "assert(tops.shape == (21, 784))\n",
    "\n",
    "all_tops = tops    #The final array to be returned\n",
    "\n",
    "#two additional transformation to tr_pant:\n",
    "tr_top_pic= (tr_top).reshape((28, 28))\n",
    "tr_flipped_top = (np.fliplr(tr_top_pic))\n",
    "tr_flip_light =all_expo(tr_flipped_top, 1, 'light')\n",
    "all_tops = np.vstack((all_tops, tr_flipped.reshape((1, 784))))\n",
    "all_tops = np.vstack((all_tops, tr_flip_light))\n",
    "\n",
    "for i in range(0, 21):\n",
    "    top_pic= (trousers[i, :]).reshape((28, 28))\n",
    "\n",
    "    # All seven noise\n",
    "    noisy_top = all_noise(top_pic)  \n",
    "    all_tops = np.vstack((all_tops, noisy_top))\n",
    "\n",
    "    light_top = all_expo(top_pic, 4, 'light')\n",
    "    all_tops = np.vstack((all_tops, light_top))\n",
    "\n",
    "    dark_top = all_expo(top_pic, 4, 'dark')\n",
    "    all_tops = np.vstack((all_tops, dark_top))\n",
    "\n",
    "    rot_top = all_rot(top_pic, 6)\n",
    "    all_tops = np.vstack((all_tops, rot_top))\n",
    "\n",
    "    #get four noisy & flipped image/pullovr\n",
    "    new_top1 = noise_flip(top_pic, 7) \n",
    "    all_tops = np.vstack((all_tops, new_top1))\n",
    "\n",
    "    #Adding 1 rotated and lightened version of each pantover\n",
    "    new_top2 = rot_expose(top_pic, 4, 'light')\n",
    "    all_tops = np.vstack((all_tops, new_top2))\n",
    "\n",
    "    #adding 1 rotated and darkedned version of each pantover\n",
    "    new_top3 = rot_expose(top_pic, 4, 'dark')\n",
    "    all_tops = np.vstack((all_tops, new_top3))\n",
    "    \n",
    "    #get 1 noisy & darkened image/pantovr\n",
    "    new_top4 = noise_exp(top_pic, 1, 'dark')\n",
    "    all_tops = np.vstack((all_tops, new_top4))\n",
    "    \n",
    "print(all_tops.shape)\n",
    "assert(all_tops.shape == (800, 784))"
   ]
  },
  {
   "cell_type": "markdown",
   "metadata": {},
   "source": [
    "#### Combining all x"
   ]
  },
  {
   "cell_type": "code",
   "execution_count": 37,
   "metadata": {},
   "outputs": [
    {
     "name": "stdout",
     "output_type": "stream",
     "text": [
      "(560,)\n"
     ]
    }
   ],
   "source": [
    "#New x train data SCALED\n",
    "new_x_tr_sc = np.vstack((all_trous, all_tops)) \n",
    "new_x_tr_sc = np.vstack((new_x_tr_sc, all_pulls ))\n",
    "new_x_tr_sc = np.vstack((new_x_tr_sc, all_dresses))\n",
    "new_x_tr_sc = np.vstack((new_x_tr_sc, x_tr_sc[sneaker_int, :]))\n",
    "new_x_tr_sc = np.vstack((new_x_tr_sc, x_tr_sc[sandal_int, :]))\n",
    "assert(new_x_tr_sc.shape== (4800, 784))\n",
    "\n",
    "#making train_y_2\n",
    "new_y_tr = np.tile(1, 800) \n",
    "new_y_tr = np.hstack((new_y_tr, np.tile(0, 800)))\n",
    "new_y_tr = np.hstack((new_y_tr, np.tile(2, 800)))\n",
    "new_y_tr = np.hstack((new_y_tr, np.tile(3, 800)))\n",
    "new_y_tr = np.hstack((new_y_tr, np.tile(7, 800)))\n",
    "new_y_tr = np.hstack((new_y_tr, np.tile(5, 800)))\n",
    "assert(new_y_tr.shape== (4800, ))\n",
    "\n",
    "\n",
    "# New validation set\n",
    "va_dress_idx =(y_va_df.index[y_va_df['class_name']=='dress']).tolist()\n",
    "va_pull_idx =(y_va_df.index[y_va_df['class_name']=='pullover']).tolist()\n",
    "va_sneaker_idx =(y_va_df.index[y_va_df['class_name']=='sneaker']).tolist()\n",
    "va_sandal_idx =(y_va_df.index[y_va_df['class_name']=='sandal']).tolist()\n",
    "\n",
    "va_80_pants = x_va_sc[va_trouser_idx[20:], :]\n",
    "assert(va_80_pants.shape == (80, 784))\n",
    "va_80_tops = x_va_sc[va_tops_idx[20:], :]\n",
    "assert(va_80_pants.shape == (80, 784))\n",
    "va_100_dress= x_va_sc[va_dress_idx]\n",
    "va_100_pull = x_va_sc[va_pull_idx]\n",
    "va_100_sneakers = x_va_sc[va_sneaker_idx]\n",
    "va_100_sandal = x_va_sc[va_sandal_idx]\n",
    "\n",
    "new_x_va_sc = np.vstack((va_80_pants, va_80_tops)) \n",
    "new_x_va_sc = np.vstack((new_x_va_sc, va_100_pull ))\n",
    "new_x_va_sc = np.vstack((new_x_va_sc, va_100_dress))\n",
    "new_x_va_sc = np.vstack((new_x_va_sc, va_100_sneakers))\n",
    "new_x_va_sc = np.vstack((new_x_va_sc, va_100_sandal))\n",
    "\n",
    "#making train_y_2\n",
    "new_y_va = np.tile(1, 80) \n",
    "new_y_va = np.hstack((new_y_va, np.tile(0, 80)))\n",
    "new_y_va = np.hstack((new_y_va, np.tile(2, 100)))\n",
    "new_y_va = np.hstack((new_y_va, np.tile(3, 100)))\n",
    "new_y_va = np.hstack((new_y_va, np.tile(7, 100)))\n",
    "new_y_va = np.hstack((new_y_va, np.tile(5, 100)))\n",
    "\n",
    "print(new_y_va.shape)\n",
    "assert(new_y_va.shape== (560, ))\n"
   ]
  },
  {
   "cell_type": "markdown",
   "metadata": {},
   "source": [
    "## Testing each transformation to find bounds"
   ]
  },
  {
   "cell_type": "code",
   "execution_count": 38,
   "metadata": {},
   "outputs": [
    {
     "data": {
      "image/png": "[encoded data removed]",
      "text/plain": [
       "<Figure size 800x400 with 2 Axes>"
      ]
     },
     "metadata": {},
     "output_type": "display_data"
    }
   ],
   "source": [
    "#Flip shirt, just use numpy...\n",
    "top = (x_tr_sc[top_int]).reshape((28,28))\n",
    "flip_top = (np.fliplr(top))\n",
    "show_image(x_tr_sc, top_int, flip_top)\n",
    "\n",
    "#Flipped image. Also array of new top images\n",
    "new_tops = flip_top.reshape((1, 784))   #1"
   ]
  },
  {
   "cell_type": "code",
   "execution_count": 39,
   "metadata": {},
   "outputs": [
    {
     "data": {
      "image/png": "[encoded data removed]",
      "text/plain": [
       "<Figure size 800x400 with 2 Axes>"
      ]
     },
     "metadata": {},
     "output_type": "display_data"
    }
   ],
   "source": [
    "light_top1 = skimage.exposure.adjust_gamma(top, 0.9)    # light 0.1 -0.9 \n",
    "light_top2 = skimage.exposure.adjust_gamma(top, 0.1)  \n",
    "dark_top1 = skimage.exposure.adjust_gamma(top, 2)    #Dark 2 - 3\n",
    "dark_top2 = skimage.exposure.adjust_gamma(top, )    \n",
    "\n",
    "show_image(x_tr_sc, top_int, dark_top2)"
   ]
  },
  {
   "cell_type": "code",
   "execution_count": 40,
   "metadata": {},
   "outputs": [
    {
     "data": {
      "image/png": "[encoded data removed]",
      "text/plain": [
       "<Figure size 800x400 with 2 Axes>"
      ]
     },
     "metadata": {},
     "output_type": "display_data"
    }
   ],
   "source": [
    "r_top = skimage.transform.rotate(top, -10)    # +/- 10 ~ 2 degrees \n",
    "show_image(x_tr_sc, top_int, r_top)"
   ]
  },
  {
   "cell_type": "code",
   "execution_count": 41,
   "metadata": {},
   "outputs": [
    {
     "data": {
      "image/png": "[encoded data removed]",
      "text/plain": [
       "<Figure size 800x400 with 2 Axes>"
      ]
     },
     "metadata": {},
     "output_type": "display_data"
    }
   ],
   "source": [
    "noisy_top1 = skimage.util.random_noise(top, mode='gaussian')\n",
    "noisy_top2= skimage.util.random_noise(top, mode='localvar')\n",
    "noisy_top3= skimage.util.random_noise(top, mode='salt')\n",
    "noisy_top4= skimage.util.random_noise(top, mode='pepper')\n",
    "noisy_top5= skimage.util.random_noise(top, mode='s&p')\n",
    "noisy_top6= skimage.util.random_noise(top, mode='speckle')\n",
    "noisy_top7= skimage.util.random_noise(top, mode='poisson')\n",
    "\n",
    "show_image(x_tr_sc, top_int, noisy_top7)"
   ]
  },
  {
   "cell_type": "markdown",
   "metadata": {},
   "source": [
    "# Making the Model!"
   ]
  },
  {
   "cell_type": "code",
   "execution_count": 42,
   "metadata": {},
   "outputs": [],
   "source": [
    "# File handling\n",
    "import pickle\n",
    "import os\n",
    "from premade_funcs import format_pred\n",
    "\n",
    "# General functions\n",
    "import pandas as pd\n",
    "\n",
    "# Sci-kit learn\n",
    "from sklearn.model_selection import RandomizedSearchCV, GridSearchCV, PredefinedSplit\n",
    "from sklearn.neural_network import MLPClassifier\n",
    "import sklearn.pipeline\n",
    "from sklearn.metrics import balanced_accuracy_score\n",
    "from sklearn.preprocessing import MinMaxScaler\n",
    "# import sklearn.linear_model\n",
    "# import sklearn.model_selection as skms\n",
    "# import sklearn.feature_selection\n",
    "# from sklearn.utils import shuffle\n",
    "# from sklearn.feature_extraction.text import CountVectorizer\n",
    "from sklearn.metrics import roc_auc_score, roc_curve, confusion_matrix, ConfusionMatrixDisplay\n",
    "\n",
    "# Data visualisation\n",
    "import matplotlib.pyplot as plt\n",
    "import seaborn as sns"
   ]
  },
  {
   "cell_type": "code",
   "execution_count": 43,
   "metadata": {},
   "outputs": [
    {
     "name": "stdout",
     "output_type": "stream",
     "text": [
      "Training X shape: (4800, 784)\n",
      "Validation X shape: (560, 784)\n",
      "Combined X shape: (5360, 784)\n",
      "\n",
      "Training Y shape: (4800,)\n",
      "Validation Y shape: (560,)\n",
      "Combined Y shape: (5360,)\n",
      "\n",
      "Splitter dimensions: 5360\n"
     ]
    }
   ],
   "source": [
    "# new_x_tr_sc - Updated training set\n",
    "# new_x_va_sc - Updated validation set\n",
    "# new_y_tr - Updated classes in training\n",
    "# new_y_va - Updated classes in validation set.\n",
    "\n",
    "# Combine training and validation datasets\n",
    "new_x_all = np.vstack((new_x_tr_sc, new_x_va_sc))\n",
    "new_y_all = np.hstack((new_y_tr, new_y_va))\n",
    "\n",
    "print(\"Training X shape: %s\\nValidation X shape: %s\\nCombined X shape: %s\\n\" % (new_x_tr_sc.shape, new_x_va_sc.shape, new_x_all.shape))\n",
    "print(\"Training Y shape: %s\\nValidation Y shape: %s\\nCombined Y shape: %s\\n\" % (new_y_tr.shape, new_y_va.shape, new_y_all.shape))\n",
    "\n",
    "valid_indicators2 = np.hstack([\n",
    "    -1 * np.ones(new_y_tr.shape[0]), # -1 means never include this example in any test split\n",
    "    0  * np.ones(new_y_va.shape[0]), #  0 means include in the first test split (we count starting at 0 in python)\n",
    "    ])\n",
    "\n",
    "# Define custom splitter to use only the validation dataset for hyperparameter selection\n",
    "print(\"Splitter dimensions: %i\" % (valid_indicators2.shape[0]))\n",
    "our_splitter = PredefinedSplit(valid_indicators2)"
   ]
  },
  {
   "cell_type": "markdown",
   "metadata": {},
   "source": [
    "## Coarse Grid Search"
   ]
  },
  {
   "cell_type": "code",
   "execution_count": 67,
   "metadata": {},
   "outputs": [],
   "source": [
    "new_x_te = np.divide(x_te, 255) #SCALING TEST SET\n",
    "names = {3: 'dress', 2: 'pullover', 0: 'top', 1: 'trouser', 5: 'sandal', 7: 'sneaker'}"
   ]
  },
  {
   "cell_type": "code",
   "execution_count": 55,
   "metadata": {},
   "outputs": [
    {
     "name": "stderr",
     "output_type": "stream",
     "text": [
      "c:\\Users\\leigh\\micromamba\\envs\\cs135_env\\lib\\site-packages\\sklearn\\neural_network\\_multilayer_perceptron.py:541: ConvergenceWarning: lbfgs failed to converge (status=1):\n",
      "STOP: TOTAL NO. of ITERATIONS REACHED LIMIT.\n",
      "\n",
      "Increase the number of iterations (max_iter) or scale the data as shown in:\n",
      "    https://scikit-learn.org/stable/modules/preprocessing.html\n",
      "  self.n_iter_ = _check_optimize_result(\"lbfgs\", opt_res, self.max_iter)\n"
     ]
    }
   ],
   "source": [
    "# Removed following parameters that don't apply to lbfgs:\n",
    "# batch size only for non-lbfgs. \n",
    "# Learning Rate = const, adaptive, etc... ONLY for sgd\n",
    "# learning_rate_init only used for sgd or adam\n",
    "# early_stopping, n_iter_no_change and validation_fraction only for sgd/adam.\n",
    "\n",
    "# new_x_tr_sc - Updated training set\n",
    "# new_x_va_sc - Updated validation set\n",
    "# new y_tr - Updated classes in training\n",
    "# new y_va - Updated classes in validation set.\n",
    "scaling = True\n",
    "flag = 'stop'\n",
    "filename = '2_coarse_grid_search.sav'\n",
    "\n",
    "\n",
    "if os.path.isfile(\"./\" + filename) and flag != 'run':\n",
    "    grid_2_model = pickle.load(open(filename, 'rb'))\n",
    "else:\n",
    "    rand_param_dist2 = dict(hidden_layer_sizes=[(10,),(20,),(50,),(100,)], activation=('identity', 'relu'), max_iter = np.logspace(1,2.6,6,dtype=int), alpha = np.logspace(-5,3,9))\n",
    "\n",
    "    grid_2_model =   sklearn.pipeline.Pipeline([\n",
    "        ('grid_search', GridSearchCV(MLPClassifier(solver='lbfgs', random_state=0), rand_param_dist2, scoring='balanced_accuracy', error_score='raise', return_train_score=True, cv= our_splitter, n_jobs = -1))\n",
    "    ])\n",
    "\n",
    "    # Fit on x_all as the custom splitter will divide this into tr and val\n",
    "    grid_2_model.fit(new_x_all, new_y_all)\n",
    "    pickle.dump(grid_2_model, open(filename, 'wb'))"
   ]
  },
  {
   "cell_type": "code",
   "execution_count": 56,
   "metadata": {},
   "outputs": [
    {
     "name": "stdout",
     "output_type": "stream",
     "text": [
      "MLPClassifier(alpha=0.1, hidden_layer_sizes=(50,), max_iter=43, random_state=0,\n",
      "              solver='lbfgs')\n"
     ]
    }
   ],
   "source": [
    "best_est = grid_2_model['grid_search'].best_estimator_\n",
    "#best_est.fit(x_all_sc, y_all_df['class_uid'])\n",
    "print(best_est)"
   ]
  },
  {
   "cell_type": "code",
   "execution_count": 57,
   "metadata": {},
   "outputs": [
    {
     "name": "stdout",
     "output_type": "stream",
     "text": [
      "Training balanced accuracy: 0.828542\n",
      "Validation balanced accuracy: 0.939286\n"
     ]
    }
   ],
   "source": [
    "#Checking normal accuracy, not balanced accuracy\n",
    "tr_acc = sklearn.metrics.accuracy_score(new_y_tr, best_est.predict(new_x_tr_sc))\n",
    "va_acc = sklearn.metrics.accuracy_score(new_y_va, best_est.predict(new_x_va_sc))\n",
    "print(\"Training balanced accuracy: %f\\nValidation balanced accuracy: %f\" % (tr_acc, va_acc))"
   ]
  },
  {
   "cell_type": "code",
   "execution_count": 71,
   "metadata": {},
   "outputs": [
    {
     "data": {
      "text/plain": [
       "<sklearn.metrics._plot.confusion_matrix.ConfusionMatrixDisplay at 0x1cc0bf981f0>"
      ]
     },
     "execution_count": 71,
     "metadata": {},
     "output_type": "execute_result"
    },
    {
     "data": {
      "image/png": "[encoded data removed]",
      "text/plain": [
       "<Figure size 640x480 with 1 Axes>"
      ]
     },
     "metadata": {},
     "output_type": "display_data"
    }
   ],
   "source": [
    "pred_tr= best_est.predict(new_x_tr_sc)\n",
    "pred_va = best_est.predict(new_x_va_sc)\n",
    "ConfusionMatrixDisplay.from_estimator(best_est, new_x_va_sc, new_y_va, colorbar=False)\n",
    "# np.savetxt('yhat_test.txt', pred_te, delimiter='\\n', fmt='%s');"
   ]
  },
  {
   "cell_type": "code",
   "execution_count": 49,
   "metadata": {},
   "outputs": [],
   "source": [
    "# new_x_tr_sc - Updated training set\n",
    "# new_x_va_sc - Updated validation set\n",
    "# new y_tr - Updated classes in training\n",
    "# new y_va - Updated classes in validation set.\n",
    "scaling = True\n",
    "flag = 'stop'\n",
    "filename = '2_2nd_coarse_grid_search.sav'\n",
    "\n",
    "\n",
    "if os.path.isfile(\"./\" + filename) and flag != 'run':\n",
    "    grid_3_model = pickle.load(open(filename, 'rb'))\n",
    "else:\n",
    "    rand_param_dist2 = dict(hidden_layer_sizes=[(45,), (48,), (50,),(52,), (55, )], max_iter = np.logspace(1,2.6,6,dtype=int), alpha = np.logspace(-1, 3, 5))\n",
    "\n",
    "    grid_3_model =   sklearn.pipeline.Pipeline([\n",
    "        ('grid_search', GridSearchCV(MLPClassifier(solver='lbfgs', random_state=0, activation='relu'), rand_param_dist2, scoring='balanced_accuracy', error_score='raise', return_train_score=True, cv= our_splitter, n_jobs = -1))\n",
    "    ])\n",
    "\n",
    "    # Fit on x_all as the custom splitter will divide this into tr and val\n",
    "    grid_3_model.fit(new_x_all, new_y_all)\n",
    "    pickle.dump(grid_3_model, open(filename, 'wb'))"
   ]
  },
  {
   "cell_type": "code",
   "execution_count": 50,
   "metadata": {},
   "outputs": [],
   "source": [
    "better_est = grid_3_model['grid_search'].best_estimator_"
   ]
  },
  {
   "cell_type": "code",
   "execution_count": 51,
   "metadata": {},
   "outputs": [
    {
     "name": "stdout",
     "output_type": "stream",
     "text": [
      "Training balanced accuracy: 0.814167\n",
      "Validation balanced accuracy: 0.930357\n"
     ]
    }
   ],
   "source": [
    "#Checking normal accuracy, not balanced accuracy\n",
    "tr_acc2 = sklearn.metrics.accuracy_score(new_y_tr, better_est.predict(new_x_tr_sc))\n",
    "va_acc2 = sklearn.metrics.accuracy_score(new_y_va, better_est.predict(new_x_va_sc))\n",
    "print(\"Training balanced accuracy: %f\\nValidation balanced accuracy: %f\" % (tr_acc2, va_acc2))"
   ]
  },
  {
   "cell_type": "code",
   "execution_count": 52,
   "metadata": {},
   "outputs": [
    {
     "data": {
      "text/plain": [
       "<sklearn.metrics._plot.confusion_matrix.ConfusionMatrixDisplay at 0x1cc0bf33100>"
      ]
     },
     "execution_count": 52,
     "metadata": {},
     "output_type": "execute_result"
    },
    {
     "data": {
      "image/png": "[encoded data removed]",
      "text/plain": [
       "<Figure size 640x480 with 2 Axes>"
      ]
     },
     "metadata": {},
     "output_type": "display_data"
    }
   ],
   "source": [
    "ConfusionMatrixDisplay.from_estimator(best_est, new_x_va_sc, new_y_va)"
   ]
  },
  {
   "cell_type": "code",
   "execution_count": 53,
   "metadata": {},
   "outputs": [
    {
     "data": {
      "text/plain": [
       "<sklearn.metrics._plot.confusion_matrix.ConfusionMatrixDisplay at 0x1cc0bf6a6b0>"
      ]
     },
     "execution_count": 53,
     "metadata": {},
     "output_type": "execute_result"
    },
    {
     "data": {
      "image/png": "[encoded data removed]",
      "text/plain": [
       "<Figure size 640x480 with 2 Axes>"
      ]
     },
     "metadata": {},
     "output_type": "display_data"
    }
   ],
   "source": [
    "ConfusionMatrixDisplay.from_estimator(better_est, new_x_va_sc, new_y_va)"
   ]
  },
  {
   "cell_type": "code",
   "execution_count": 54,
   "metadata": {},
   "outputs": [
    {
     "ename": "NameError",
     "evalue": "name 'bett_est' is not defined",
     "output_type": "error",
     "traceback": [
      "\u001b[1;31m---------------------------------------------------------------------------\u001b[0m",
      "\u001b[1;31mNameError\u001b[0m                                 Traceback (most recent call last)",
      "\u001b[1;32mc:\\Users\\leigh\\OneDrive - Tufts\\cs135\\projectB\\problem2Images.ipynb Cell 41\u001b[0m line \u001b[0;36m1\n\u001b[1;32m----> <a href='vscode-notebook-cell:/c%3A/Users/leigh/OneDrive%20-%20Tufts/cs135/projectB/problem2Images.ipynb#X55sZmlsZQ%3D%3D?line=0'>1</a>\u001b[0m format_pred((bett_est\u001b[39m.\u001b[39mpredict(new_x_te)))\n",
      "\u001b[1;31mNameError\u001b[0m: name 'bett_est' is not defined"
     ]
    }
   ],
   "source": [
    "\n",
    "format_pred((bett_est.predict(new_x_te)))"
   ]
  }
 ],
 "metadata": {
  "kernelspec": {
   "display_name": "Python 3",
   "language": "python",
   "name": "python3"
  },
  "language_info": {
   "codemirror_mode": {
    "name": "ipython",
    "version": 3
   },
   "file_extension": ".py",
   "mimetype": "text/x-python",
   "name": "python",
   "nbconvert_exporter": "python",
   "pygments_lexer": "ipython3",
   "version": "3.10.13"
  }
 },
 "nbformat": 4,
 "nbformat_minor": 2
}
