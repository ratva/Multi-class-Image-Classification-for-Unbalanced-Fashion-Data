{
  "cells": [
    {
      "cell_type": "markdown",
      "metadata": {},
      "source": [
        "\n",
        "# Demo for using xgboost with sklearn\n"
      ]
    },
    {
      "cell_type": "code",
      "execution_count": 1,
      "metadata": {
        "collapsed": false
      },
      "outputs": [
        {
          "name": "stdout",
          "output_type": "stream",
          "text": [
            "Parallel Parameter optimization\n",
            "Fitting 5 folds for each of 9 candidates, totalling 45 fits\n",
            "0.6814331857186495\n",
            "{'max_depth': 4, 'n_estimators': 50}\n"
          ]
        }
      ],
      "source": [
        "import multiprocessing\n",
        "\n",
        "from sklearn.datasets import fetch_california_housing\n",
        "from sklearn.model_selection import GridSearchCV\n",
        "\n",
        "import xgboost as xgb\n",
        "\n",
        "if __name__ == \"__main__\":\n",
        "    print(\"Parallel Parameter optimization\")\n",
        "    X, y = fetch_california_housing(return_X_y=True)\n",
        "    xgb_model = xgb.XGBRegressor(\n",
        "        n_jobs=multiprocessing.cpu_count() // 2, tree_method=\"hist\"\n",
        "    )\n",
        "    clf = GridSearchCV(\n",
        "        xgb_model,\n",
        "        {\"max_depth\": [2, 4, 6], \"n_estimators\": [50, 100, 200]},\n",
        "        verbose=1,\n",
        "        n_jobs=2,\n",
        "    )\n",
        "    clf.fit(X, y)\n",
        "    print(clf.best_score_)\n",
        "    print(clf.best_params_)"
      ]
    }
  ],
  "metadata": {
    "kernelspec": {
      "display_name": "Python 3",
      "language": "python",
      "name": "python3"
    },
    "language_info": {
      "codemirror_mode": {
        "name": "ipython",
        "version": 3
      },
      "file_extension": ".py",
      "mimetype": "text/x-python",
      "name": "python",
      "nbconvert_exporter": "python",
      "pygments_lexer": "ipython3",
      "version": "3.10.13"
    }
  },
  "nbformat": 4,
  "nbformat_minor": 0
}
